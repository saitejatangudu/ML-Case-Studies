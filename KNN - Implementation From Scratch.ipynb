{
 "cells": [
  {
   "cell_type": "markdown",
   "id": "7b60571d",
   "metadata": {},
   "source": [
    "# Data Exploration and Visualization"
   ]
  },
  {
   "cell_type": "code",
   "execution_count": 1,
   "id": "e23b4f9e",
   "metadata": {},
   "outputs": [],
   "source": [
    "# importing necessary modules for exploration\n",
    "import numpy as np\n",
    "import pandas as pd"
   ]
  },
  {
   "cell_type": "code",
   "execution_count": 2,
   "id": "2d0d0a1a",
   "metadata": {},
   "outputs": [
    {
     "data": {
      "text/html": [
       "<div>\n",
       "<style scoped>\n",
       "    .dataframe tbody tr th:only-of-type {\n",
       "        vertical-align: middle;\n",
       "    }\n",
       "\n",
       "    .dataframe tbody tr th {\n",
       "        vertical-align: top;\n",
       "    }\n",
       "\n",
       "    .dataframe thead th {\n",
       "        text-align: right;\n",
       "    }\n",
       "</style>\n",
       "<table border=\"1\" class=\"dataframe\">\n",
       "  <thead>\n",
       "    <tr style=\"text-align: right;\">\n",
       "      <th></th>\n",
       "      <th>0</th>\n",
       "      <th>1</th>\n",
       "      <th>2</th>\n",
       "      <th>3</th>\n",
       "    </tr>\n",
       "  </thead>\n",
       "  <tbody>\n",
       "    <tr>\n",
       "      <th>0</th>\n",
       "      <td>9f894201-9d0d-4f75-853b-595c0c1bd661</td>\n",
       "      <td>[[-0.001002429, 0.047839083, -0.0046581626, 0....</td>\n",
       "      <td>[[0.31094703, 0.20213455, -0.16519593, -0.0530...</td>\n",
       "      <td>sleep</td>\n",
       "    </tr>\n",
       "    <tr>\n",
       "      <th>1</th>\n",
       "      <td>d2b4d879-0345-4df1-a978-eb7f9e8b89f1</td>\n",
       "      <td>[[-0.013190677, 0.08283211, 0.006474074, 0.001...</td>\n",
       "      <td>[[-0.07832227, -0.07557866, -0.05214904, -0.32...</td>\n",
       "      <td>oven</td>\n",
       "    </tr>\n",
       "    <tr>\n",
       "      <th>2</th>\n",
       "      <td>aaf0c209-f3a7-4c91-9a09-bc1e30400c4c</td>\n",
       "      <td>[[-0.010499587, 0.047467805, -0.019303396, -0....</td>\n",
       "      <td>[[0.31455985, -0.024428558, 0.33139282, 0.2197...</td>\n",
       "      <td>chair</td>\n",
       "    </tr>\n",
       "    <tr>\n",
       "      <th>3</th>\n",
       "      <td>5ae313c7-9934-456c-9685-36ef20b712fd</td>\n",
       "      <td>[[-0.023966337, 0.024375185, -0.0009961016, -0...</td>\n",
       "      <td>[[0.113364324, -0.23683439, 0.34781978, -0.427...</td>\n",
       "      <td>igloo</td>\n",
       "    </tr>\n",
       "    <tr>\n",
       "      <th>4</th>\n",
       "      <td>b58bbb2c-461f-4805-856e-cba323f97e8c</td>\n",
       "      <td>[[-0.018555297, 0.050565578, -0.008821793, 0.0...</td>\n",
       "      <td>[[0.22332864, -0.28626534, -0.037617087, -0.17...</td>\n",
       "      <td>fish</td>\n",
       "    </tr>\n",
       "  </tbody>\n",
       "</table>\n",
       "</div>"
      ],
      "text/plain": [
       "                                      0  \\\n",
       "0  9f894201-9d0d-4f75-853b-595c0c1bd661   \n",
       "1  d2b4d879-0345-4df1-a978-eb7f9e8b89f1   \n",
       "2  aaf0c209-f3a7-4c91-9a09-bc1e30400c4c   \n",
       "3  5ae313c7-9934-456c-9685-36ef20b712fd   \n",
       "4  b58bbb2c-461f-4805-856e-cba323f97e8c   \n",
       "\n",
       "                                                   1  \\\n",
       "0  [[-0.001002429, 0.047839083, -0.0046581626, 0....   \n",
       "1  [[-0.013190677, 0.08283211, 0.006474074, 0.001...   \n",
       "2  [[-0.010499587, 0.047467805, -0.019303396, -0....   \n",
       "3  [[-0.023966337, 0.024375185, -0.0009961016, -0...   \n",
       "4  [[-0.018555297, 0.050565578, -0.008821793, 0.0...   \n",
       "\n",
       "                                                   2      3  \n",
       "0  [[0.31094703, 0.20213455, -0.16519593, -0.0530...  sleep  \n",
       "1  [[-0.07832227, -0.07557866, -0.05214904, -0.32...   oven  \n",
       "2  [[0.31455985, -0.024428558, 0.33139282, 0.2197...  chair  \n",
       "3  [[0.113364324, -0.23683439, 0.34781978, -0.427...  igloo  \n",
       "4  [[0.22332864, -0.28626534, -0.037617087, -0.17...   fish  "
      ]
     },
     "execution_count": 2,
     "metadata": {},
     "output_type": "execute_result"
    }
   ],
   "source": [
    "#Loading the data file and removing the unwanted column\n",
    "data = pd.DataFrame(np.load(\"data.npy\",allow_pickle=True))\n",
    "data.drop([4],axis=1,inplace=True)\n",
    "data.head()"
   ]
  },
  {
   "cell_type": "code",
   "execution_count": 3,
   "id": "3f85ff93",
   "metadata": {},
   "outputs": [
    {
     "name": "stdout",
     "output_type": "stream",
     "text": [
      "<class 'pandas.core.frame.DataFrame'>\n",
      "RangeIndex: 1500 entries, 0 to 1499\n",
      "Data columns (total 4 columns):\n",
      " #   Column  Non-Null Count  Dtype \n",
      "---  ------  --------------  ----- \n",
      " 0   0       1500 non-null   object\n",
      " 1   1       1500 non-null   object\n",
      " 2   2       1500 non-null   object\n",
      " 3   3       1500 non-null   object\n",
      "dtypes: object(4)\n",
      "memory usage: 47.0+ KB\n"
     ]
    }
   ],
   "source": [
    "data.info() # sanity and Type Checking"
   ]
  },
  {
   "cell_type": "code",
   "execution_count": 4,
   "id": "e351af0f",
   "metadata": {},
   "outputs": [
    {
     "data": {
      "text/html": [
       "<div>\n",
       "<style scoped>\n",
       "    .dataframe tbody tr th:only-of-type {\n",
       "        vertical-align: middle;\n",
       "    }\n",
       "\n",
       "    .dataframe tbody tr th {\n",
       "        vertical-align: top;\n",
       "    }\n",
       "\n",
       "    .dataframe thead th {\n",
       "        text-align: right;\n",
       "    }\n",
       "</style>\n",
       "<table border=\"1\" class=\"dataframe\">\n",
       "  <thead>\n",
       "    <tr style=\"text-align: right;\">\n",
       "      <th></th>\n",
       "      <th>0</th>\n",
       "      <th>1</th>\n",
       "      <th>2</th>\n",
       "      <th>3</th>\n",
       "    </tr>\n",
       "  </thead>\n",
       "  <tbody>\n",
       "    <tr>\n",
       "      <th>count</th>\n",
       "      <td>1500</td>\n",
       "      <td>1500</td>\n",
       "      <td>1500</td>\n",
       "      <td>1500</td>\n",
       "    </tr>\n",
       "    <tr>\n",
       "      <th>unique</th>\n",
       "      <td>1500</td>\n",
       "      <td>1500</td>\n",
       "      <td>1500</td>\n",
       "      <td>193</td>\n",
       "    </tr>\n",
       "    <tr>\n",
       "      <th>top</th>\n",
       "      <td>3616eefb-421f-494f-8b7a-9a5f6bb498ab</td>\n",
       "      <td>[[-0.0076869577, 0.06358872, -0.015705898, 0.0...</td>\n",
       "      <td>[[0.33750275, -0.11556292, 0.22356148, -0.0434...</td>\n",
       "      <td>flute</td>\n",
       "    </tr>\n",
       "    <tr>\n",
       "      <th>freq</th>\n",
       "      <td>1</td>\n",
       "      <td>1</td>\n",
       "      <td>1</td>\n",
       "      <td>26</td>\n",
       "    </tr>\n",
       "  </tbody>\n",
       "</table>\n",
       "</div>"
      ],
      "text/plain": [
       "                                           0  \\\n",
       "count                                   1500   \n",
       "unique                                  1500   \n",
       "top     3616eefb-421f-494f-8b7a-9a5f6bb498ab   \n",
       "freq                                       1   \n",
       "\n",
       "                                                        1  \\\n",
       "count                                                1500   \n",
       "unique                                               1500   \n",
       "top     [[-0.0076869577, 0.06358872, -0.015705898, 0.0...   \n",
       "freq                                                    1   \n",
       "\n",
       "                                                        2      3  \n",
       "count                                                1500   1500  \n",
       "unique                                               1500    193  \n",
       "top     [[0.33750275, -0.11556292, 0.22356148, -0.0434...  flute  \n",
       "freq                                                    1     26  "
      ]
     },
     "execution_count": 4,
     "metadata": {},
     "output_type": "execute_result"
    }
   ],
   "source": [
    "'''\n",
    "understanding the distributions i.e first and second column \n",
    "distributions doesn't make much sensse since they are embeddings\n",
    "'''\n",
    "data.describe() "
   ]
  },
  {
   "cell_type": "code",
   "execution_count": 5,
   "id": "1ff993e7",
   "metadata": {},
   "outputs": [
    {
     "data": {
      "image/png": "[encoded data removed]",
      "text/plain": [
       "<Figure size 432x288 with 1 Axes>"
      ]
     },
     "metadata": {
      "needs_background": "light"
     },
     "output_type": "display_data"
    }
   ],
   "source": [
    "'''\n",
    "A clumsy label distribution i.e\n",
    "not very clear as the x-axis is flooded with a large number of labels\n",
    "'''\n",
    "import matplotlib.pyplot as plt  \n",
    "plt.hist(data[3])\n",
    "plt.show()"
   ]
  },
  {
   "cell_type": "code",
   "execution_count": 6,
   "id": "0e08b754",
   "metadata": {},
   "outputs": [
    {
     "data": {
      "text/plain": [
       "<matplotlib.collections.PathCollection at 0x7f7e4a227100>"
      ]
     },
     "execution_count": 6,
     "metadata": {},
     "output_type": "execute_result"
    },
    {
     "data": {
      "image/png": "[encoded data removed]",
      "text/plain": [
       "<Figure size 432x288 with 1 Axes>"
      ]
     },
     "metadata": {
      "needs_background": "light"
     },
     "output_type": "display_data"
    }
   ],
   "source": [
    "# Frequency of the labels through scatter plot\n",
    "\n",
    "plt.scatter(range(len(data[3].value_counts())),data[3].value_counts())"
   ]
  },
  {
   "cell_type": "code",
   "execution_count": 7,
   "id": "112f7450",
   "metadata": {},
   "outputs": [
    {
     "data": {
      "text/html": [
       "<div>\n",
       "<style scoped>\n",
       "    .dataframe tbody tr th:only-of-type {\n",
       "        vertical-align: middle;\n",
       "    }\n",
       "\n",
       "    .dataframe tbody tr th {\n",
       "        vertical-align: top;\n",
       "    }\n",
       "\n",
       "    .dataframe thead th {\n",
       "        text-align: right;\n",
       "    }\n",
       "</style>\n",
       "<table border=\"1\" class=\"dataframe\">\n",
       "  <thead>\n",
       "    <tr style=\"text-align: right;\">\n",
       "      <th></th>\n",
       "      <th>freq</th>\n",
       "    </tr>\n",
       "  </thead>\n",
       "  <tbody>\n",
       "    <tr>\n",
       "      <th>count</th>\n",
       "      <td>193.000000</td>\n",
       "    </tr>\n",
       "    <tr>\n",
       "      <th>mean</th>\n",
       "      <td>7.772021</td>\n",
       "    </tr>\n",
       "    <tr>\n",
       "      <th>std</th>\n",
       "      <td>5.466741</td>\n",
       "    </tr>\n",
       "    <tr>\n",
       "      <th>min</th>\n",
       "      <td>1.000000</td>\n",
       "    </tr>\n",
       "    <tr>\n",
       "      <th>25%</th>\n",
       "      <td>4.000000</td>\n",
       "    </tr>\n",
       "    <tr>\n",
       "      <th>50%</th>\n",
       "      <td>6.000000</td>\n",
       "    </tr>\n",
       "    <tr>\n",
       "      <th>75%</th>\n",
       "      <td>10.000000</td>\n",
       "    </tr>\n",
       "    <tr>\n",
       "      <th>max</th>\n",
       "      <td>26.000000</td>\n",
       "    </tr>\n",
       "  </tbody>\n",
       "</table>\n",
       "</div>"
      ],
      "text/plain": [
       "             freq\n",
       "count  193.000000\n",
       "mean     7.772021\n",
       "std      5.466741\n",
       "min      1.000000\n",
       "25%      4.000000\n",
       "50%      6.000000\n",
       "75%     10.000000\n",
       "max     26.000000"
      ]
     },
     "execution_count": 7,
     "metadata": {},
     "output_type": "execute_result"
    }
   ],
   "source": [
    "# Understanding the frequency of occurance of the labels using their stat summary\n",
    "class_dist = pd.DataFrame(data[3].value_counts())\n",
    "class_dist.columns = [\"freq\"]\n",
    "class_dist.describe()"
   ]
  },
  {
   "cell_type": "code",
   "execution_count": 8,
   "id": "c9daf8f2",
   "metadata": {},
   "outputs": [
    {
     "data": {
      "text/plain": [
       "array([[<AxesSubplot:title={'center':'freq'}>]], dtype=object)"
      ]
     },
     "execution_count": 8,
     "metadata": {},
     "output_type": "execute_result"
    },
    {
     "data": {
      "image/png": "[encoded data removed]",
      "text/plain": [
       "<Figure size 432x288 with 1 Axes>"
      ]
     },
     "metadata": {
      "needs_background": "light"
     },
     "output_type": "display_data"
    }
   ],
   "source": [
    "# Histogram Based on the Frequency of classes having relative frequency of appearence 0-5 times and so on\n",
    "class_dist.hist()"
   ]
  },
  {
   "cell_type": "markdown",
   "id": "2ac2c75c",
   "metadata": {},
   "source": [
    "The no of labels with high frequency is very low comapared to the no of labels whose frequency is low."
   ]
  },
  {
   "cell_type": "code",
   "execution_count": 9,
   "id": "153fe928",
   "metadata": {},
   "outputs": [
    {
     "data": {
      "text/html": [
       "<div>\n",
       "<style scoped>\n",
       "    .dataframe tbody tr th:only-of-type {\n",
       "        vertical-align: middle;\n",
       "    }\n",
       "\n",
       "    .dataframe tbody tr th {\n",
       "        vertical-align: top;\n",
       "    }\n",
       "\n",
       "    .dataframe thead th {\n",
       "        text-align: right;\n",
       "    }\n",
       "</style>\n",
       "<table border=\"1\" class=\"dataframe\">\n",
       "  <thead>\n",
       "    <tr style=\"text-align: right;\">\n",
       "      <th></th>\n",
       "      <th>id</th>\n",
       "      <th>ResNet</th>\n",
       "      <th>VIT</th>\n",
       "      <th>class</th>\n",
       "    </tr>\n",
       "  </thead>\n",
       "  <tbody>\n",
       "    <tr>\n",
       "      <th>0</th>\n",
       "      <td>9f894201-9d0d-4f75-853b-595c0c1bd661</td>\n",
       "      <td>[[-0.001002429, 0.047839083, -0.0046581626, 0....</td>\n",
       "      <td>[[0.31094703, 0.20213455, -0.16519593, -0.0530...</td>\n",
       "      <td>sleep</td>\n",
       "    </tr>\n",
       "    <tr>\n",
       "      <th>1</th>\n",
       "      <td>d2b4d879-0345-4df1-a978-eb7f9e8b89f1</td>\n",
       "      <td>[[-0.013190677, 0.08283211, 0.006474074, 0.001...</td>\n",
       "      <td>[[-0.07832227, -0.07557866, -0.05214904, -0.32...</td>\n",
       "      <td>oven</td>\n",
       "    </tr>\n",
       "    <tr>\n",
       "      <th>2</th>\n",
       "      <td>aaf0c209-f3a7-4c91-9a09-bc1e30400c4c</td>\n",
       "      <td>[[-0.010499587, 0.047467805, -0.019303396, -0....</td>\n",
       "      <td>[[0.31455985, -0.024428558, 0.33139282, 0.2197...</td>\n",
       "      <td>chair</td>\n",
       "    </tr>\n",
       "    <tr>\n",
       "      <th>3</th>\n",
       "      <td>5ae313c7-9934-456c-9685-36ef20b712fd</td>\n",
       "      <td>[[-0.023966337, 0.024375185, -0.0009961016, -0...</td>\n",
       "      <td>[[0.113364324, -0.23683439, 0.34781978, -0.427...</td>\n",
       "      <td>igloo</td>\n",
       "    </tr>\n",
       "    <tr>\n",
       "      <th>4</th>\n",
       "      <td>b58bbb2c-461f-4805-856e-cba323f97e8c</td>\n",
       "      <td>[[-0.018555297, 0.050565578, -0.008821793, 0.0...</td>\n",
       "      <td>[[0.22332864, -0.28626534, -0.037617087, -0.17...</td>\n",
       "      <td>fish</td>\n",
       "    </tr>\n",
       "    <tr>\n",
       "      <th>...</th>\n",
       "      <td>...</td>\n",
       "      <td>...</td>\n",
       "      <td>...</td>\n",
       "      <td>...</td>\n",
       "    </tr>\n",
       "    <tr>\n",
       "      <th>1495</th>\n",
       "      <td>b1233fbb-68ee-44a0-a8b8-0b399ad1cacd</td>\n",
       "      <td>[[0.009528579, 0.044194497, 0.038498692, -0.00...</td>\n",
       "      <td>[[0.10134661, -0.10768638, 0.23218037, 0.25022...</td>\n",
       "      <td>stove</td>\n",
       "    </tr>\n",
       "    <tr>\n",
       "      <th>1496</th>\n",
       "      <td>76c1ee48-25b4-4981-b21f-26a3a2b091bb</td>\n",
       "      <td>[[-0.003666563, 0.028779637, -0.013404611, -0....</td>\n",
       "      <td>[[0.29125518, -0.18452865, 0.1506041, 0.092724...</td>\n",
       "      <td>carrot</td>\n",
       "    </tr>\n",
       "    <tr>\n",
       "      <th>1497</th>\n",
       "      <td>9596177d-b182-486e-bbc9-987081647e68</td>\n",
       "      <td>[[0.00709543, 0.037197262, -0.022390455, 0.001...</td>\n",
       "      <td>[[0.19752023, 0.29306346, -0.28130922, -0.3879...</td>\n",
       "      <td>puppet</td>\n",
       "    </tr>\n",
       "    <tr>\n",
       "      <th>1498</th>\n",
       "      <td>9ad40994-3c3b-46c0-81b4-05e81589856d</td>\n",
       "      <td>[[0.009601502, 0.03150965, -0.010726368, 0.000...</td>\n",
       "      <td>[[0.3255903, -0.14218077, 0.0856628, 0.4351619...</td>\n",
       "      <td>listen</td>\n",
       "    </tr>\n",
       "    <tr>\n",
       "      <th>1499</th>\n",
       "      <td>c3020795-fcda-42e7-bc6e-20658b0ede04</td>\n",
       "      <td>[[-0.006722372, 0.051088452, -0.006071057, 0.0...</td>\n",
       "      <td>[[0.323996, 0.3701325, 0.53706473, -0.02763263...</td>\n",
       "      <td>exit</td>\n",
       "    </tr>\n",
       "  </tbody>\n",
       "</table>\n",
       "<p>1500 rows × 4 columns</p>\n",
       "</div>"
      ],
      "text/plain": [
       "                                        id  \\\n",
       "0     9f894201-9d0d-4f75-853b-595c0c1bd661   \n",
       "1     d2b4d879-0345-4df1-a978-eb7f9e8b89f1   \n",
       "2     aaf0c209-f3a7-4c91-9a09-bc1e30400c4c   \n",
       "3     5ae313c7-9934-456c-9685-36ef20b712fd   \n",
       "4     b58bbb2c-461f-4805-856e-cba323f97e8c   \n",
       "...                                    ...   \n",
       "1495  b1233fbb-68ee-44a0-a8b8-0b399ad1cacd   \n",
       "1496  76c1ee48-25b4-4981-b21f-26a3a2b091bb   \n",
       "1497  9596177d-b182-486e-bbc9-987081647e68   \n",
       "1498  9ad40994-3c3b-46c0-81b4-05e81589856d   \n",
       "1499  c3020795-fcda-42e7-bc6e-20658b0ede04   \n",
       "\n",
       "                                                 ResNet  \\\n",
       "0     [[-0.001002429, 0.047839083, -0.0046581626, 0....   \n",
       "1     [[-0.013190677, 0.08283211, 0.006474074, 0.001...   \n",
       "2     [[-0.010499587, 0.047467805, -0.019303396, -0....   \n",
       "3     [[-0.023966337, 0.024375185, -0.0009961016, -0...   \n",
       "4     [[-0.018555297, 0.050565578, -0.008821793, 0.0...   \n",
       "...                                                 ...   \n",
       "1495  [[0.009528579, 0.044194497, 0.038498692, -0.00...   \n",
       "1496  [[-0.003666563, 0.028779637, -0.013404611, -0....   \n",
       "1497  [[0.00709543, 0.037197262, -0.022390455, 0.001...   \n",
       "1498  [[0.009601502, 0.03150965, -0.010726368, 0.000...   \n",
       "1499  [[-0.006722372, 0.051088452, -0.006071057, 0.0...   \n",
       "\n",
       "                                                    VIT   class  \n",
       "0     [[0.31094703, 0.20213455, -0.16519593, -0.0530...   sleep  \n",
       "1     [[-0.07832227, -0.07557866, -0.05214904, -0.32...    oven  \n",
       "2     [[0.31455985, -0.024428558, 0.33139282, 0.2197...   chair  \n",
       "3     [[0.113364324, -0.23683439, 0.34781978, -0.427...   igloo  \n",
       "4     [[0.22332864, -0.28626534, -0.037617087, -0.17...    fish  \n",
       "...                                                 ...     ...  \n",
       "1495  [[0.10134661, -0.10768638, 0.23218037, 0.25022...   stove  \n",
       "1496  [[0.29125518, -0.18452865, 0.1506041, 0.092724...  carrot  \n",
       "1497  [[0.19752023, 0.29306346, -0.28130922, -0.3879...  puppet  \n",
       "1498  [[0.3255903, -0.14218077, 0.0856628, 0.4351619...  listen  \n",
       "1499  [[0.323996, 0.3701325, 0.53706473, -0.02763263...    exit  \n",
       "\n",
       "[1500 rows x 4 columns]"
      ]
     },
     "execution_count": 9,
     "metadata": {},
     "output_type": "execute_result"
    }
   ],
   "source": [
    "data.columns = [\"id\",\"ResNet\",\"VIT\",\"class\"]\n",
    "data"
   ]
  },
  {
   "cell_type": "code",
   "execution_count": 10,
   "id": "5e1fa4dc",
   "metadata": {},
   "outputs": [],
   "source": [
    "# Encoding the labels to make it ordinal For smoother processing\n",
    "New_class = np.unique(data[\"class\"])\n",
    "Encoded_class = []\n",
    "for i in data[\"class\"]:\n",
    "    Encoded_class.append(*np.where(New_class==i)[0])\n",
    "data[\"Encoded_class\"] = Encoded_class"
   ]
  },
  {
   "cell_type": "markdown",
   "id": "953c1a77",
   "metadata": {},
   "source": [
    "## Task 1"
   ]
  },
  {
   "cell_type": "markdown",
   "id": "83046861",
   "metadata": {},
   "source": [
    "Create a KNN class to implement the following:(with out using sklearn)\n",
    "1. Create a class to modify and access the encoder type, k, and distance metric (and any required parameter)of the class\n",
    "2. Return the inference (prediction) when given the above parameters (en- coder type, k, and distance metric).\n",
    "3. Return the validation f-1 score, accuracy, precision, and recall after splitting the provided dataset into train and val subsets."
   ]
  },
  {
   "cell_type": "code",
   "execution_count": 11,
   "id": "0244dd9c",
   "metadata": {},
   "outputs": [],
   "source": [
    "class KNN:\n",
    "    def __init__(self,encoder=\"ResNet\",k=5,metric=\"euclidean\"):\n",
    "        #Instantiating KNN object with default encoder,k and metric\n",
    "        self.encoder = encoder\n",
    "        self.k = k\n",
    "        self.metric = metric\n",
    "    def fit(self,X,y):\n",
    "        '''\n",
    "        Since, There is no Training happens in KNN \n",
    "        This method will store the values of X and y\n",
    "        ''' \n",
    "        self.X = X[self.encoder]\n",
    "        self.y = y\n",
    "        return self\n",
    "    def __str__(self):\n",
    "        '''This Method Returns properties of an instance'''\n",
    "        return (\"Encoder=\"+str(self.encoder),\n",
    "                \"k=\"+str(self.k),\"metric=\"+str(self.metric))\n",
    "    def distance(self,sample1,sample2):\n",
    "        '''Calculating the distances based on the chosen metric'''\n",
    "        if self.metric == \"euclidean\":\n",
    "            return np.sqrt(np.sum(np.square(sample1-sample2)))\n",
    "        if self.metric == \"manhattan\":\n",
    "            return np.sum(np.absolute(sample1-sample2))\n",
    "        if self.metric == \"chebyshev\":\n",
    "            return np.max(np.absolute(sample1-sample2))\n",
    "        if self.metric ==\"cosine\":\n",
    "            return -1*(np.dot(sample1,sample2.T)/(np.sqrt(np.sum(np.square(sample1)))*np.sqrt(np.sum(np.square(sample2)))))\n",
    "    def predict(self,samples):\n",
    "        '''For every sample to test, \n",
    "        1.Calculate distance with all the training samples \n",
    "        2.Use Arg sort to get the indexes of sorted distances\n",
    "        3.Get the labels of the Top K neighbours\n",
    "        4.Return the label which appeared most'''\n",
    "        samples = samples[self.encoder]\n",
    "        return [pd.DataFrame(self.y[np.argsort(np.array([self.distance(i,sample)for i in self.X]).flatten())[:self.k]]).value_counts().index[0][0] for sample in samples]"
   ]
  },
  {
   "cell_type": "code",
   "execution_count": 12,
   "id": "b60977c2",
   "metadata": {},
   "outputs": [],
   "source": [
    "# Train_Test_Splitting\n",
    "from sklearn.model_selection import train_test_split\n",
    "train_data,val_data,train_label,val_label = train_test_split(data.iloc[:,:-1],data.iloc[:,-1],test_size=0.2)\n",
    "train_data.index = range(len(train_data))\n",
    "train_label.index = range(len(train_label))"
   ]
  },
  {
   "cell_type": "code",
   "execution_count": 13,
   "id": "b479dadc",
   "metadata": {},
   "outputs": [],
   "source": [
    "instance = KNN(k=5,metric=\"manhattan\")\n",
    "instance = instance.fit(train_data,train_label)\n",
    "predictions = instance.predict(val_data)"
   ]
  },
  {
   "cell_type": "code",
   "execution_count": 14,
   "id": "23ea9422",
   "metadata": {},
   "outputs": [
    {
     "name": "stdout",
     "output_type": "stream",
     "text": [
      "0.21333333333333337\n",
      "0.21333333333333335\n",
      "0.21333333333333335\n",
      "0.21333333333333335\n"
     ]
    }
   ],
   "source": [
    "from sklearn.metrics import f1_score,accuracy_score,precision_score,recall_score\n",
    "\n",
    "print(f1_score(val_label,predictions,average=\"micro\"))\n",
    "print(accuracy_score(val_label,predictions))\n",
    "print(precision_score(val_label,predictions,average=\"micro\"))\n",
    "print(recall_score(val_label,predictions,average=\"micro\"))"
   ]
  },
  {
   "cell_type": "markdown",
   "id": "72408b75",
   "metadata": {},
   "source": [
    "## Hyperparameter Tuning "
   ]
  },
  {
   "cell_type": "markdown",
   "id": "74d5c276",
   "metadata": {},
   "source": [
    "\n",
    "1. Find the best (k, encoder, distance metric) triplet that gives the best validation accuracy for a given data split.\n",
    "2. Print an Ordered rank list of top 20 such triplets.\n",
    "3. Plot k vs accuracy given a choice of any given distance, encoder pair."
   ]
  },
  {
   "cell_type": "code",
   "execution_count": 15,
   "id": "b6f2c898",
   "metadata": {},
   "outputs": [
    {
     "name": "stdout",
     "output_type": "stream",
     "text": [
      "['ResNet', 1, 'euclidean', 0.19333333333333333]\n",
      "['ResNet', 1, 'manhattan', 0.2]\n",
      "['ResNet', 1, 'chebyshev', 0.08333333333333333]\n",
      "['ResNet', 1, 'cosine', 0.20333333333333334]\n",
      "['ResNet', 3, 'euclidean', 0.16666666666666666]\n",
      "['ResNet', 3, 'manhattan', 0.19666666666666666]\n",
      "['ResNet', 3, 'chebyshev', 0.09]\n",
      "['ResNet', 3, 'cosine', 0.18333333333333332]\n",
      "['ResNet', 5, 'euclidean', 0.17666666666666667]\n",
      "['ResNet', 5, 'manhattan', 0.21333333333333335]\n",
      "['ResNet', 5, 'chebyshev', 0.1]\n",
      "['ResNet', 5, 'cosine', 0.18]\n",
      "['ResNet', 7, 'euclidean', 0.17333333333333334]\n",
      "['ResNet', 7, 'manhattan', 0.21333333333333335]\n",
      "['ResNet', 7, 'chebyshev', 0.09333333333333334]\n",
      "['ResNet', 7, 'cosine', 0.18333333333333332]\n",
      "['ResNet', 9, 'euclidean', 0.17]\n",
      "['ResNet', 9, 'manhattan', 0.19333333333333333]\n",
      "['ResNet', 9, 'chebyshev', 0.09]\n",
      "['ResNet', 9, 'cosine', 0.19]\n",
      "['ResNet', 11, 'euclidean', 0.19333333333333333]\n",
      "['ResNet', 11, 'manhattan', 0.21666666666666667]\n",
      "['ResNet', 11, 'chebyshev', 0.07666666666666666]\n",
      "['ResNet', 11, 'cosine', 0.19333333333333333]\n",
      "['ResNet', 13, 'euclidean', 0.20666666666666667]\n",
      "['ResNet', 13, 'manhattan', 0.20666666666666667]\n",
      "['ResNet', 13, 'chebyshev', 0.08333333333333333]\n",
      "['ResNet', 13, 'cosine', 0.20666666666666667]\n",
      "['ResNet', 15, 'euclidean', 0.19333333333333333]\n",
      "['ResNet', 15, 'manhattan', 0.21]\n",
      "['ResNet', 15, 'chebyshev', 0.08666666666666667]\n",
      "['ResNet', 15, 'cosine', 0.19333333333333333]\n",
      "['ResNet', 17, 'euclidean', 0.18333333333333332]\n",
      "['ResNet', 17, 'manhattan', 0.20333333333333334]\n",
      "['ResNet', 17, 'chebyshev', 0.07333333333333333]\n",
      "['ResNet', 17, 'cosine', 0.2]\n",
      "['ResNet', 19, 'euclidean', 0.18333333333333332]\n",
      "['ResNet', 19, 'manhattan', 0.20666666666666667]\n",
      "['ResNet', 19, 'chebyshev', 0.07333333333333333]\n",
      "['ResNet', 19, 'cosine', 0.18]\n",
      "['ResNet', 21, 'euclidean', 0.18666666666666668]\n",
      "['ResNet', 21, 'manhattan', 0.2]\n",
      "['ResNet', 21, 'chebyshev', 0.08]\n",
      "['ResNet', 21, 'cosine', 0.18]\n",
      "['ResNet', 23, 'euclidean', 0.18333333333333332]\n",
      "['ResNet', 23, 'manhattan', 0.20333333333333334]\n",
      "['ResNet', 23, 'chebyshev', 0.08666666666666667]\n",
      "['ResNet', 23, 'cosine', 0.18]\n",
      "['ResNet', 25, 'euclidean', 0.19]\n",
      "['ResNet', 25, 'manhattan', 0.19]\n",
      "['ResNet', 25, 'chebyshev', 0.08]\n",
      "['ResNet', 25, 'cosine', 0.17333333333333334]\n",
      "['ResNet', 27, 'euclidean', 0.19]\n",
      "['ResNet', 27, 'manhattan', 0.19]\n",
      "['ResNet', 27, 'chebyshev', 0.08666666666666667]\n",
      "['ResNet', 27, 'cosine', 0.17666666666666667]\n",
      "['ResNet', 29, 'euclidean', 0.18666666666666668]\n",
      "['ResNet', 29, 'manhattan', 0.18333333333333332]\n",
      "['ResNet', 29, 'chebyshev', 0.08666666666666667]\n",
      "['ResNet', 29, 'cosine', 0.17333333333333334]\n",
      "['ResNet', 31, 'euclidean', 0.18]\n",
      "['ResNet', 31, 'manhattan', 0.17333333333333334]\n",
      "['ResNet', 31, 'chebyshev', 0.08666666666666667]\n",
      "['ResNet', 31, 'cosine', 0.18]\n",
      "['ResNet', 33, 'euclidean', 0.17666666666666667]\n",
      "['ResNet', 33, 'manhattan', 0.18]\n",
      "['ResNet', 33, 'chebyshev', 0.08333333333333333]\n",
      "['ResNet', 33, 'cosine', 0.18]\n",
      "['VIT', 1, 'euclidean', 0.24333333333333335]\n",
      "['VIT', 1, 'manhattan', 0.24666666666666667]\n",
      "['VIT', 1, 'chebyshev', 0.16]\n",
      "['VIT', 1, 'cosine', 0.23333333333333334]\n",
      "['VIT', 3, 'euclidean', 0.22666666666666666]\n",
      "['VIT', 3, 'manhattan', 0.21666666666666667]\n",
      "['VIT', 3, 'chebyshev', 0.14333333333333334]\n",
      "['VIT', 3, 'cosine', 0.21333333333333335]\n",
      "['VIT', 5, 'euclidean', 0.23666666666666666]\n",
      "['VIT', 5, 'manhattan', 0.23333333333333334]\n",
      "['VIT', 5, 'chebyshev', 0.14]\n",
      "['VIT', 5, 'cosine', 0.23]\n",
      "['VIT', 7, 'euclidean', 0.22]\n",
      "['VIT', 7, 'manhattan', 0.22333333333333333]\n",
      "['VIT', 7, 'chebyshev', 0.13666666666666666]\n",
      "['VIT', 7, 'cosine', 0.24666666666666667]\n",
      "['VIT', 9, 'euclidean', 0.22333333333333333]\n",
      "['VIT', 9, 'manhattan', 0.22666666666666666]\n",
      "['VIT', 9, 'chebyshev', 0.15]\n",
      "['VIT', 9, 'cosine', 0.22333333333333333]\n",
      "['VIT', 11, 'euclidean', 0.23]\n",
      "['VIT', 11, 'manhattan', 0.23]\n",
      "['VIT', 11, 'chebyshev', 0.14666666666666667]\n",
      "['VIT', 11, 'cosine', 0.22666666666666666]\n",
      "['VIT', 13, 'euclidean', 0.23666666666666666]\n",
      "['VIT', 13, 'manhattan', 0.2633333333333333]\n",
      "['VIT', 13, 'chebyshev', 0.15666666666666668]\n",
      "['VIT', 13, 'cosine', 0.23333333333333334]\n",
      "['VIT', 15, 'euclidean', 0.23333333333333334]\n",
      "['VIT', 15, 'manhattan', 0.25666666666666665]\n",
      "['VIT', 15, 'chebyshev', 0.15666666666666668]\n",
      "['VIT', 15, 'cosine', 0.24]\n",
      "['VIT', 17, 'euclidean', 0.24666666666666667]\n",
      "['VIT', 17, 'manhattan', 0.25666666666666665]\n",
      "['VIT', 17, 'chebyshev', 0.15666666666666668]\n",
      "['VIT', 17, 'cosine', 0.23333333333333334]\n",
      "['VIT', 19, 'euclidean', 0.25333333333333335]\n",
      "['VIT', 19, 'manhattan', 0.25]\n",
      "['VIT', 19, 'chebyshev', 0.17]\n",
      "['VIT', 19, 'cosine', 0.23666666666666666]\n",
      "['VIT', 21, 'euclidean', 0.25]\n",
      "['VIT', 21, 'manhattan', 0.24333333333333335]\n",
      "['VIT', 21, 'chebyshev', 0.17]\n",
      "['VIT', 21, 'cosine', 0.22666666666666666]\n",
      "['VIT', 23, 'euclidean', 0.23666666666666666]\n",
      "['VIT', 23, 'manhattan', 0.23333333333333334]\n",
      "['VIT', 23, 'chebyshev', 0.16333333333333333]\n",
      "['VIT', 23, 'cosine', 0.22666666666666666]\n",
      "['VIT', 25, 'euclidean', 0.23666666666666666]\n",
      "['VIT', 25, 'manhattan', 0.23666666666666666]\n",
      "['VIT', 25, 'chebyshev', 0.15]\n",
      "['VIT', 25, 'cosine', 0.23666666666666666]\n",
      "['VIT', 27, 'euclidean', 0.22]\n",
      "['VIT', 27, 'manhattan', 0.25]\n",
      "['VIT', 27, 'chebyshev', 0.14333333333333334]\n",
      "['VIT', 27, 'cosine', 0.24666666666666667]\n",
      "['VIT', 29, 'euclidean', 0.22]\n",
      "['VIT', 29, 'manhattan', 0.23666666666666666]\n",
      "['VIT', 29, 'chebyshev', 0.15666666666666668]\n",
      "['VIT', 29, 'cosine', 0.23]\n",
      "['VIT', 31, 'euclidean', 0.22]\n",
      "['VIT', 31, 'manhattan', 0.22666666666666666]\n",
      "['VIT', 31, 'chebyshev', 0.16333333333333333]\n",
      "['VIT', 31, 'cosine', 0.23333333333333334]\n",
      "['VIT', 33, 'euclidean', 0.21666666666666667]\n",
      "['VIT', 33, 'manhattan', 0.23333333333333334]\n",
      "['VIT', 33, 'chebyshev', 0.15]\n",
      "['VIT', 33, 'cosine', 0.23666666666666666]\n"
     ]
    }
   ],
   "source": [
    "''' Finding the Accuracy score of every possible triplet on validation data '''\n",
    "result = []\n",
    "for encoder in [\"ResNet\",\"VIT\"]:\n",
    "    for k in range(1,round(len(train_data)**0.5),2):\n",
    "        for metric in [\"euclidean\",\"manhattan\",\"chebyshev\",\"cosine\"]:\n",
    "            instance = KNN(encoder,k,metric)\n",
    "            instance.fit(train_data,train_label)\n",
    "            predictions = instance.predict(val_data)\n",
    "            score = [encoder,k,metric,accuracy_score(val_label,predictions)]\n",
    "            print(score)\n",
    "            result.append(score)            "
   ]
  },
  {
   "cell_type": "code",
   "execution_count": 16,
   "id": "a6e466f2",
   "metadata": {},
   "outputs": [
    {
     "data": {
      "text/html": [
       "<div>\n",
       "<style scoped>\n",
       "    .dataframe tbody tr th:only-of-type {\n",
       "        vertical-align: middle;\n",
       "    }\n",
       "\n",
       "    .dataframe tbody tr th {\n",
       "        vertical-align: top;\n",
       "    }\n",
       "\n",
       "    .dataframe thead th {\n",
       "        text-align: right;\n",
       "    }\n",
       "</style>\n",
       "<table border=\"1\" class=\"dataframe\">\n",
       "  <thead>\n",
       "    <tr style=\"text-align: right;\">\n",
       "      <th></th>\n",
       "      <th>encoder</th>\n",
       "      <th>k</th>\n",
       "      <th>metric</th>\n",
       "      <th>accuracy</th>\n",
       "    </tr>\n",
       "  </thead>\n",
       "  <tbody>\n",
       "    <tr>\n",
       "      <th>0</th>\n",
       "      <td>VIT</td>\n",
       "      <td>13</td>\n",
       "      <td>manhattan</td>\n",
       "      <td>0.263333</td>\n",
       "    </tr>\n",
       "    <tr>\n",
       "      <th>1</th>\n",
       "      <td>VIT</td>\n",
       "      <td>15</td>\n",
       "      <td>manhattan</td>\n",
       "      <td>0.256667</td>\n",
       "    </tr>\n",
       "    <tr>\n",
       "      <th>2</th>\n",
       "      <td>VIT</td>\n",
       "      <td>17</td>\n",
       "      <td>manhattan</td>\n",
       "      <td>0.256667</td>\n",
       "    </tr>\n",
       "    <tr>\n",
       "      <th>3</th>\n",
       "      <td>VIT</td>\n",
       "      <td>19</td>\n",
       "      <td>euclidean</td>\n",
       "      <td>0.253333</td>\n",
       "    </tr>\n",
       "    <tr>\n",
       "      <th>4</th>\n",
       "      <td>VIT</td>\n",
       "      <td>27</td>\n",
       "      <td>manhattan</td>\n",
       "      <td>0.250000</td>\n",
       "    </tr>\n",
       "    <tr>\n",
       "      <th>5</th>\n",
       "      <td>VIT</td>\n",
       "      <td>21</td>\n",
       "      <td>euclidean</td>\n",
       "      <td>0.250000</td>\n",
       "    </tr>\n",
       "    <tr>\n",
       "      <th>6</th>\n",
       "      <td>VIT</td>\n",
       "      <td>19</td>\n",
       "      <td>manhattan</td>\n",
       "      <td>0.250000</td>\n",
       "    </tr>\n",
       "    <tr>\n",
       "      <th>7</th>\n",
       "      <td>VIT</td>\n",
       "      <td>17</td>\n",
       "      <td>euclidean</td>\n",
       "      <td>0.246667</td>\n",
       "    </tr>\n",
       "    <tr>\n",
       "      <th>8</th>\n",
       "      <td>VIT</td>\n",
       "      <td>7</td>\n",
       "      <td>cosine</td>\n",
       "      <td>0.246667</td>\n",
       "    </tr>\n",
       "    <tr>\n",
       "      <th>9</th>\n",
       "      <td>VIT</td>\n",
       "      <td>27</td>\n",
       "      <td>cosine</td>\n",
       "      <td>0.246667</td>\n",
       "    </tr>\n",
       "    <tr>\n",
       "      <th>10</th>\n",
       "      <td>VIT</td>\n",
       "      <td>1</td>\n",
       "      <td>manhattan</td>\n",
       "      <td>0.246667</td>\n",
       "    </tr>\n",
       "    <tr>\n",
       "      <th>11</th>\n",
       "      <td>VIT</td>\n",
       "      <td>1</td>\n",
       "      <td>euclidean</td>\n",
       "      <td>0.243333</td>\n",
       "    </tr>\n",
       "    <tr>\n",
       "      <th>12</th>\n",
       "      <td>VIT</td>\n",
       "      <td>21</td>\n",
       "      <td>manhattan</td>\n",
       "      <td>0.243333</td>\n",
       "    </tr>\n",
       "    <tr>\n",
       "      <th>13</th>\n",
       "      <td>VIT</td>\n",
       "      <td>15</td>\n",
       "      <td>cosine</td>\n",
       "      <td>0.240000</td>\n",
       "    </tr>\n",
       "    <tr>\n",
       "      <th>14</th>\n",
       "      <td>VIT</td>\n",
       "      <td>13</td>\n",
       "      <td>euclidean</td>\n",
       "      <td>0.236667</td>\n",
       "    </tr>\n",
       "    <tr>\n",
       "      <th>15</th>\n",
       "      <td>VIT</td>\n",
       "      <td>19</td>\n",
       "      <td>cosine</td>\n",
       "      <td>0.236667</td>\n",
       "    </tr>\n",
       "    <tr>\n",
       "      <th>16</th>\n",
       "      <td>VIT</td>\n",
       "      <td>23</td>\n",
       "      <td>euclidean</td>\n",
       "      <td>0.236667</td>\n",
       "    </tr>\n",
       "    <tr>\n",
       "      <th>17</th>\n",
       "      <td>VIT</td>\n",
       "      <td>25</td>\n",
       "      <td>euclidean</td>\n",
       "      <td>0.236667</td>\n",
       "    </tr>\n",
       "    <tr>\n",
       "      <th>18</th>\n",
       "      <td>VIT</td>\n",
       "      <td>25</td>\n",
       "      <td>manhattan</td>\n",
       "      <td>0.236667</td>\n",
       "    </tr>\n",
       "    <tr>\n",
       "      <th>19</th>\n",
       "      <td>VIT</td>\n",
       "      <td>25</td>\n",
       "      <td>cosine</td>\n",
       "      <td>0.236667</td>\n",
       "    </tr>\n",
       "  </tbody>\n",
       "</table>\n",
       "</div>"
      ],
      "text/plain": [
       "   encoder   k     metric  accuracy\n",
       "0      VIT  13  manhattan  0.263333\n",
       "1      VIT  15  manhattan  0.256667\n",
       "2      VIT  17  manhattan  0.256667\n",
       "3      VIT  19  euclidean  0.253333\n",
       "4      VIT  27  manhattan  0.250000\n",
       "5      VIT  21  euclidean  0.250000\n",
       "6      VIT  19  manhattan  0.250000\n",
       "7      VIT  17  euclidean  0.246667\n",
       "8      VIT   7     cosine  0.246667\n",
       "9      VIT  27     cosine  0.246667\n",
       "10     VIT   1  manhattan  0.246667\n",
       "11     VIT   1  euclidean  0.243333\n",
       "12     VIT  21  manhattan  0.243333\n",
       "13     VIT  15     cosine  0.240000\n",
       "14     VIT  13  euclidean  0.236667\n",
       "15     VIT  19     cosine  0.236667\n",
       "16     VIT  23  euclidean  0.236667\n",
       "17     VIT  25  euclidean  0.236667\n",
       "18     VIT  25  manhattan  0.236667\n",
       "19     VIT  25     cosine  0.236667"
      ]
     },
     "execution_count": 16,
     "metadata": {},
     "output_type": "execute_result"
    }
   ],
   "source": [
    "# Printing the Top 20 Triplets\n",
    "result_data = pd.DataFrame(result,columns= [\"encoder\",\"k\",\"metric\",\"accuracy\"])\n",
    "result_data.sort_values([\"accuracy\"],ascending=False,ignore_index=True)[:20]"
   ]
  },
  {
   "cell_type": "code",
   "execution_count": 17,
   "id": "450a8c84",
   "metadata": {},
   "outputs": [],
   "source": [
    "'''\n",
    "From the results obtained during Hyperparameter Tuning \n",
    "We choose \"encoder=='ResNet' and metric == 'manhattan' and \n",
    "plot the K value Vs Accuracy\n",
    "'''\n",
    "k_accuracy = result_data.query(\"encoder=='ResNet' and metric == 'manhattan'\")"
   ]
  },
  {
   "cell_type": "code",
   "execution_count": 18,
   "id": "8b1651eb",
   "metadata": {},
   "outputs": [
    {
     "data": {
      "image/png": "[encoded data removed]",
      "text/plain": [
       "<Figure size 432x288 with 1 Axes>"
      ]
     },
     "metadata": {
      "needs_background": "light"
     },
     "output_type": "display_data"
    }
   ],
   "source": [
    "plt.plot(k_accuracy[\"k\"],k_accuracy[\"accuracy\"])\n",
    "plt.show()"
   ]
  },
  {
   "cell_type": "markdown",
   "id": "a341f3b9",
   "metadata": {},
   "source": [
    "# Optimization"
   ]
  },
  {
   "cell_type": "markdown",
   "id": "06b2f837",
   "metadata": {},
   "source": [
    "Think about the time complexity during inference for this particular algorithm? What do you think the graph of the time complexity versus number of samples would look like?"
   ]
  },
  {
   "cell_type": "markdown",
   "id": "c25bf690",
   "metadata": {},
   "source": [
    "* It would increase with the increase in the no of samples"
   ]
  },
  {
   "cell_type": "markdown",
   "id": "8ec0e46f",
   "metadata": {},
   "source": [
    "1. Is it possible to improve the execution time of the program? Hint: Use Vectorization.\n",
    "2. Plot inference time for initial KNN model, best KNN model, most optimized KNN model, and the default sklearn KNN model.\n",
    "3. plot the inference time vs train dataset size for initial KNN model, best KNN model, most optimized KNN model, and the default sklearn KNN model."
   ]
  },
  {
   "cell_type": "markdown",
   "id": "f74698dc",
   "metadata": {},
   "source": [
    "* Since, We have already used Vectorization for constructing the initial classifier The optimised and the initial KNN would be same"
   ]
  },
  {
   "cell_type": "code",
   "execution_count": 19,
   "id": "65a8137b",
   "metadata": {},
   "outputs": [
    {
     "name": "stdout",
     "output_type": "stream",
     "text": [
      "The time of inference of initial KNN is : 3431.9212436676025 ms\n"
     ]
    }
   ],
   "source": [
    "# Creating instances of initial, Best and default sklearn's KNN models\n",
    "import time\n",
    " \n",
    "# initial KNN    \n",
    "train_start = time.time()\n",
    "instance = KNN(k=5,metric=\"manhattan\",encoder=\"ResNet\")\n",
    "instance = instance.fit(train_data,train_label)\n",
    "train_end = time.time()\n",
    "starting = time.time()\n",
    "predictions = instance.predict(val_data)\n",
    "ending = time.time()\n",
    "train_init_KNN_Time = (train_start-train_end)*10**3 # TrainingTime\n",
    "init_KNN_Time = (ending-starting)*10**3 # inference Time\n",
    "print(\"The time of inference of initial KNN is :\",\n",
    "      (init_KNN_Time) , \"ms\")"
   ]
  },
  {
   "cell_type": "code",
   "execution_count": 20,
   "id": "771d9865",
   "metadata": {},
   "outputs": [
    {
     "name": "stdout",
     "output_type": "stream",
     "text": [
      "The time of inference of initial KNN is : 3431.877851486206 ms\n"
     ]
    }
   ],
   "source": [
    "# Best KNN\n",
    "train_start = time.time()\n",
    "instance = KNN(k=5,metric=\"manhattan\",encoder=\"ResNet\")\n",
    "instance = instance.fit(train_data,train_label)\n",
    "train_end = time.time()\n",
    "starting = time.time()\n",
    "predictions = instance.predict(val_data)\n",
    "ending = time.time()\n",
    "train_best_KNN_Time = (train_start-train_end)*10**3# TrainingTime\n",
    "best_KNN_Time = (ending-starting)*10**3 # inference Time\n",
    "print(\"The time of inference of initial KNN is :\",\n",
    "      (best_KNN_Time) , \"ms\")"
   ]
  },
  {
   "cell_type": "code",
   "execution_count": 21,
   "id": "07faaf5c",
   "metadata": {},
   "outputs": [],
   "source": [
    "def preprocess(dummy):\n",
    "    spl_train_data = []\n",
    "    for i in dummy['ResNet']:\n",
    "        spl_train_data.append(i.flatten())\n",
    "    return np.array(spl_train_data)\n",
    "train_data = preprocess(train_data)\n",
    "val_data = preprocess(val_data)"
   ]
  },
  {
   "cell_type": "code",
   "execution_count": 22,
   "id": "b5ee4d95",
   "metadata": {},
   "outputs": [
    {
     "name": "stdout",
     "output_type": "stream",
     "text": [
      "The time of inference of initial KNN is : 52.65307426452637 ms\n"
     ]
    }
   ],
   "source": [
    "# sklearn's KNN\n",
    "from sklearn.neighbors import KNeighborsClassifier\n",
    "train_start = time.time()\n",
    "instance = KNeighborsClassifier()\n",
    "instance = instance.fit(train_data,train_label)\n",
    "train_end = time.time()\n",
    "starting = time.time()\n",
    "predictions = instance.predict(val_data)\n",
    "ending = time.time()\n",
    "train_sklearn_KNN_Time = (train_start-train_end)*10**3# TrainingTime\n",
    "sklearn_KNN_Time = (ending-starting)*10**3 # inference Time\n",
    "print(\"The time of inference of initial KNN is :\",\n",
    "      (sklearn_KNN_Time) , \"ms\")"
   ]
  },
  {
   "cell_type": "code",
   "execution_count": 23,
   "id": "3a5e2697",
   "metadata": {},
   "outputs": [
    {
     "data": {
      "image/png": "[encoded data removed]",
      "text/plain": [
       "<Figure size 432x288 with 1 Axes>"
      ]
     },
     "metadata": {
      "needs_background": "light"
     },
     "output_type": "display_data"
    }
   ],
   "source": [
    "# Inference Time Comparision Between the three models\n",
    "plt.bar([\"init_KNN_Time\",\"best_KNN_Time\",\"sklearn_KNN_Time\"],[init_KNN_Time,best_KNN_Time,sklearn_KNN_Time])\n",
    "plt.title(\"Inference Time Comparision\")\n",
    "plt.show()"
   ]
  },
  {
   "cell_type": "code",
   "execution_count": 24,
   "id": "6e5050e2",
   "metadata": {},
   "outputs": [
    {
     "data": {
      "image/png": "[encoded data removed]",
      "text/plain": [
       "<Figure size 432x288 with 1 Axes>"
      ]
     },
     "metadata": {
      "needs_background": "light"
     },
     "output_type": "display_data"
    }
   ],
   "source": [
    "# Inference vs Training Time Comparision Between the three models\n",
    "\n",
    "plt.plot([\"init_KNN_Time\",\"best_KNN_Time\",\"sklearn_KNN_Time\"],[init_KNN_Time,best_KNN_Time,sklearn_KNN_Time])\n",
    "plt.plot([\"init_KNN_Time\",\"best_KNN_Time\",\"sklearn_KNN_Time\"],[train_init_KNN_Time,train_best_KNN_Time,train_sklearn_KNN_Time])\n",
    "plt.title(\"Execution Time Comparision\")\n",
    "plt.legend([\"Inference_Time\", \"Training_Time\"], loc =\"upper right\")\n",
    "plt.show()"
   ]
  }
 ],
 "metadata": {
  "kernelspec": {
   "display_name": "Python 3",
   "language": "python",
   "name": "python3"
  },
  "language_info": {
   "codemirror_mode": {
    "name": "ipython",
    "version": 3
   },
   "file_extension": ".py",
   "mimetype": "text/x-python",
   "name": "python",
   "nbconvert_exporter": "python",
   "pygments_lexer": "ipython3",
   "version": "3.8.8"
  }
 },
 "nbformat": 4,
 "nbformat_minor": 5
}
