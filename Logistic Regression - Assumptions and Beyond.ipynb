{
 "cells": [
  {
   "cell_type": "code",
   "execution_count": 227,
   "id": "923ad36e",
   "metadata": {},
   "outputs": [],
   "source": [
    "import pandas as pd\n",
    "import numpy as np\n",
    "import seaborn as sns\n",
    "import matplotlib.pyplot as plt\n",
    "from sklearn.metrics import r2_score"
   ]
  },
  {
   "cell_type": "code",
   "execution_count": 228,
   "id": "089dc031",
   "metadata": {},
   "outputs": [
    {
     "data": {
      "text/html": [
       "<div>\n",
       "<style scoped>\n",
       "    .dataframe tbody tr th:only-of-type {\n",
       "        vertical-align: middle;\n",
       "    }\n",
       "\n",
       "    .dataframe tbody tr th {\n",
       "        vertical-align: top;\n",
       "    }\n",
       "\n",
       "    .dataframe thead th {\n",
       "        text-align: right;\n",
       "    }\n",
       "</style>\n",
       "<table border=\"1\" class=\"dataframe\">\n",
       "  <thead>\n",
       "    <tr style=\"text-align: right;\">\n",
       "      <th></th>\n",
       "      <th>Serial No.</th>\n",
       "      <th>GRE Score</th>\n",
       "      <th>TOEFL Score</th>\n",
       "      <th>University Rating</th>\n",
       "      <th>SOP</th>\n",
       "      <th>LOR</th>\n",
       "      <th>CGPA</th>\n",
       "      <th>Research</th>\n",
       "      <th>Chance of Admit</th>\n",
       "    </tr>\n",
       "  </thead>\n",
       "  <tbody>\n",
       "    <tr>\n",
       "      <th>0</th>\n",
       "      <td>1</td>\n",
       "      <td>337</td>\n",
       "      <td>118</td>\n",
       "      <td>4</td>\n",
       "      <td>4.5</td>\n",
       "      <td>4.5</td>\n",
       "      <td>9.65</td>\n",
       "      <td>1</td>\n",
       "      <td>0.92</td>\n",
       "    </tr>\n",
       "    <tr>\n",
       "      <th>1</th>\n",
       "      <td>2</td>\n",
       "      <td>324</td>\n",
       "      <td>107</td>\n",
       "      <td>4</td>\n",
       "      <td>4.0</td>\n",
       "      <td>4.5</td>\n",
       "      <td>8.87</td>\n",
       "      <td>1</td>\n",
       "      <td>0.76</td>\n",
       "    </tr>\n",
       "    <tr>\n",
       "      <th>2</th>\n",
       "      <td>3</td>\n",
       "      <td>316</td>\n",
       "      <td>104</td>\n",
       "      <td>3</td>\n",
       "      <td>3.0</td>\n",
       "      <td>3.5</td>\n",
       "      <td>8.00</td>\n",
       "      <td>1</td>\n",
       "      <td>0.72</td>\n",
       "    </tr>\n",
       "    <tr>\n",
       "      <th>3</th>\n",
       "      <td>4</td>\n",
       "      <td>322</td>\n",
       "      <td>110</td>\n",
       "      <td>3</td>\n",
       "      <td>3.5</td>\n",
       "      <td>2.5</td>\n",
       "      <td>8.67</td>\n",
       "      <td>1</td>\n",
       "      <td>0.80</td>\n",
       "    </tr>\n",
       "    <tr>\n",
       "      <th>4</th>\n",
       "      <td>5</td>\n",
       "      <td>314</td>\n",
       "      <td>103</td>\n",
       "      <td>2</td>\n",
       "      <td>2.0</td>\n",
       "      <td>3.0</td>\n",
       "      <td>8.21</td>\n",
       "      <td>0</td>\n",
       "      <td>0.65</td>\n",
       "    </tr>\n",
       "  </tbody>\n",
       "</table>\n",
       "</div>"
      ],
      "text/plain": [
       "   Serial No.  GRE Score  TOEFL Score  University Rating  SOP  LOR   CGPA  \\\n",
       "0           1        337          118                  4  4.5   4.5  9.65   \n",
       "1           2        324          107                  4  4.0   4.5  8.87   \n",
       "2           3        316          104                  3  3.0   3.5  8.00   \n",
       "3           4        322          110                  3  3.5   2.5  8.67   \n",
       "4           5        314          103                  2  2.0   3.0  8.21   \n",
       "\n",
       "   Research  Chance of Admit   \n",
       "0         1              0.92  \n",
       "1         1              0.76  \n",
       "2         1              0.72  \n",
       "3         1              0.80  \n",
       "4         0              0.65  "
      ]
     },
     "execution_count": 228,
     "metadata": {},
     "output_type": "execute_result"
    }
   ],
   "source": [
    "data = pd.read_csv(\"Jamboree.csv\")\n",
    "data.head()"
   ]
  },
  {
   "cell_type": "code",
   "execution_count": 229,
   "id": "0f1da68a",
   "metadata": {},
   "outputs": [
    {
     "data": {
      "text/plain": [
       "Index(['Serial No.', 'GRE Score', 'TOEFL Score', 'University Rating', 'SOP',\n",
       "       'LOR ', 'CGPA', 'Research', 'Chance of Admit '],\n",
       "      dtype='object')"
      ]
     },
     "execution_count": 229,
     "metadata": {},
     "output_type": "execute_result"
    }
   ],
   "source": [
    "data.columns"
   ]
  },
  {
   "cell_type": "markdown",
   "id": "ec2fd882",
   "metadata": {},
   "source": [
    "##     1. Define Problem Statement and perform Exploratory Data Analysis \n"
   ]
  },
  {
   "cell_type": "markdown",
   "id": "6dba507c",
   "metadata": {},
   "source": [
    "\n",
    "         a) Definition of problem "
   ]
  },
  {
   "cell_type": "markdown",
   "id": "ed05476b",
   "metadata": {},
   "source": [
    "* This is a regression problem. We have multiple variables which contribute to the prediction of chance of admit. Therefore, this is a case of multiple regression.\n",
    "* We preprocess the data then model the linear regression model and test the possible assumptions of the model,and make possible inferences about the data and the model and evaluate them accordingly."
   ]
  },
  {
   "cell_type": "markdown",
   "id": "13c64e4f",
   "metadata": {},
   "source": [
    "    b) Observations on shape of data, data types of all the attributes, conversion of categorical attributes to 'category' (If required) , missing value detection, statistical summary."
   ]
  },
  {
   "cell_type": "code",
   "execution_count": 230,
   "id": "c5d56bee",
   "metadata": {},
   "outputs": [
    {
     "data": {
      "text/plain": [
       "(500, 9)"
      ]
     },
     "execution_count": 230,
     "metadata": {},
     "output_type": "execute_result"
    }
   ],
   "source": [
    "data.shape # Total no of rows : 500 Total no of columns 9"
   ]
  },
  {
   "cell_type": "code",
   "execution_count": 231,
   "id": "0a6e8d01",
   "metadata": {},
   "outputs": [
    {
     "data": {
      "text/plain": [
       "Serial No.             int64\n",
       "GRE Score              int64\n",
       "TOEFL Score            int64\n",
       "University Rating      int64\n",
       "SOP                  float64\n",
       "LOR                  float64\n",
       "CGPA                 float64\n",
       "Research               int64\n",
       "Chance of Admit      float64\n",
       "dtype: object"
      ]
     },
     "execution_count": 231,
     "metadata": {},
     "output_type": "execute_result"
    }
   ],
   "source": [
    "data.dtypes\n",
    "# All the attributes are either of type float or of type int\n",
    "# The target variable is continuous float variable"
   ]
  },
  {
   "cell_type": "code",
   "execution_count": 232,
   "id": "c37602a4",
   "metadata": {},
   "outputs": [
    {
     "data": {
      "text/plain": [
       "Serial No.           500\n",
       "GRE Score             49\n",
       "TOEFL Score           29\n",
       "University Rating      5\n",
       "SOP                    9\n",
       "LOR                    9\n",
       "CGPA                 184\n",
       "Research               2\n",
       "Chance of Admit       61\n",
       "dtype: int64"
      ]
     },
     "execution_count": 232,
     "metadata": {},
     "output_type": "execute_result"
    }
   ],
   "source": [
    "data.nunique()\n",
    "# This method returns the No of unique values in each of the attribute\n",
    "# The attributes which are integer and have lesser unique values should be\n",
    "# be considered as categorical values"
   ]
  },
  {
   "cell_type": "code",
   "execution_count": 233,
   "id": "6be5af57",
   "metadata": {},
   "outputs": [
    {
     "data": {
      "text/plain": [
       "Serial No.           0\n",
       "GRE Score            0\n",
       "TOEFL Score          0\n",
       "University Rating    0\n",
       "SOP                  0\n",
       "LOR                  0\n",
       "CGPA                 0\n",
       "Research             0\n",
       "Chance of Admit      0\n",
       "dtype: int64"
      ]
     },
     "execution_count": 233,
     "metadata": {},
     "output_type": "execute_result"
    }
   ],
   "source": [
    "data.isnull().sum()\n",
    "# Since all the variables have zero null values. \n",
    "# We don't need to process these values separately \n",
    "# as part of preprocessing step. No Outliers have been detected \n",
    "# attribute level Outliers can be resolved by normalization of the data."
   ]
  },
  {
   "cell_type": "code",
   "execution_count": 234,
   "id": "c1e7afe5",
   "metadata": {},
   "outputs": [
    {
     "data": {
      "text/html": [
       "<div>\n",
       "<style scoped>\n",
       "    .dataframe tbody tr th:only-of-type {\n",
       "        vertical-align: middle;\n",
       "    }\n",
       "\n",
       "    .dataframe tbody tr th {\n",
       "        vertical-align: top;\n",
       "    }\n",
       "\n",
       "    .dataframe thead th {\n",
       "        text-align: right;\n",
       "    }\n",
       "</style>\n",
       "<table border=\"1\" class=\"dataframe\">\n",
       "  <thead>\n",
       "    <tr style=\"text-align: right;\">\n",
       "      <th></th>\n",
       "      <th>Serial No.</th>\n",
       "      <th>GRE Score</th>\n",
       "      <th>TOEFL Score</th>\n",
       "      <th>University Rating</th>\n",
       "      <th>SOP</th>\n",
       "      <th>LOR</th>\n",
       "      <th>CGPA</th>\n",
       "      <th>Research</th>\n",
       "      <th>Chance of Admit</th>\n",
       "    </tr>\n",
       "  </thead>\n",
       "  <tbody>\n",
       "    <tr>\n",
       "      <th>count</th>\n",
       "      <td>500.000000</td>\n",
       "      <td>500.000000</td>\n",
       "      <td>500.000000</td>\n",
       "      <td>500.000000</td>\n",
       "      <td>500.000000</td>\n",
       "      <td>500.00000</td>\n",
       "      <td>500.000000</td>\n",
       "      <td>500.000000</td>\n",
       "      <td>500.00000</td>\n",
       "    </tr>\n",
       "    <tr>\n",
       "      <th>mean</th>\n",
       "      <td>250.500000</td>\n",
       "      <td>316.472000</td>\n",
       "      <td>107.192000</td>\n",
       "      <td>3.114000</td>\n",
       "      <td>3.374000</td>\n",
       "      <td>3.48400</td>\n",
       "      <td>8.576440</td>\n",
       "      <td>0.560000</td>\n",
       "      <td>0.72174</td>\n",
       "    </tr>\n",
       "    <tr>\n",
       "      <th>std</th>\n",
       "      <td>144.481833</td>\n",
       "      <td>11.295148</td>\n",
       "      <td>6.081868</td>\n",
       "      <td>1.143512</td>\n",
       "      <td>0.991004</td>\n",
       "      <td>0.92545</td>\n",
       "      <td>0.604813</td>\n",
       "      <td>0.496884</td>\n",
       "      <td>0.14114</td>\n",
       "    </tr>\n",
       "    <tr>\n",
       "      <th>min</th>\n",
       "      <td>1.000000</td>\n",
       "      <td>290.000000</td>\n",
       "      <td>92.000000</td>\n",
       "      <td>1.000000</td>\n",
       "      <td>1.000000</td>\n",
       "      <td>1.00000</td>\n",
       "      <td>6.800000</td>\n",
       "      <td>0.000000</td>\n",
       "      <td>0.34000</td>\n",
       "    </tr>\n",
       "    <tr>\n",
       "      <th>25%</th>\n",
       "      <td>125.750000</td>\n",
       "      <td>308.000000</td>\n",
       "      <td>103.000000</td>\n",
       "      <td>2.000000</td>\n",
       "      <td>2.500000</td>\n",
       "      <td>3.00000</td>\n",
       "      <td>8.127500</td>\n",
       "      <td>0.000000</td>\n",
       "      <td>0.63000</td>\n",
       "    </tr>\n",
       "    <tr>\n",
       "      <th>50%</th>\n",
       "      <td>250.500000</td>\n",
       "      <td>317.000000</td>\n",
       "      <td>107.000000</td>\n",
       "      <td>3.000000</td>\n",
       "      <td>3.500000</td>\n",
       "      <td>3.50000</td>\n",
       "      <td>8.560000</td>\n",
       "      <td>1.000000</td>\n",
       "      <td>0.72000</td>\n",
       "    </tr>\n",
       "    <tr>\n",
       "      <th>75%</th>\n",
       "      <td>375.250000</td>\n",
       "      <td>325.000000</td>\n",
       "      <td>112.000000</td>\n",
       "      <td>4.000000</td>\n",
       "      <td>4.000000</td>\n",
       "      <td>4.00000</td>\n",
       "      <td>9.040000</td>\n",
       "      <td>1.000000</td>\n",
       "      <td>0.82000</td>\n",
       "    </tr>\n",
       "    <tr>\n",
       "      <th>max</th>\n",
       "      <td>500.000000</td>\n",
       "      <td>340.000000</td>\n",
       "      <td>120.000000</td>\n",
       "      <td>5.000000</td>\n",
       "      <td>5.000000</td>\n",
       "      <td>5.00000</td>\n",
       "      <td>9.920000</td>\n",
       "      <td>1.000000</td>\n",
       "      <td>0.97000</td>\n",
       "    </tr>\n",
       "  </tbody>\n",
       "</table>\n",
       "</div>"
      ],
      "text/plain": [
       "       Serial No.   GRE Score  TOEFL Score  University Rating         SOP  \\\n",
       "count  500.000000  500.000000   500.000000         500.000000  500.000000   \n",
       "mean   250.500000  316.472000   107.192000           3.114000    3.374000   \n",
       "std    144.481833   11.295148     6.081868           1.143512    0.991004   \n",
       "min      1.000000  290.000000    92.000000           1.000000    1.000000   \n",
       "25%    125.750000  308.000000   103.000000           2.000000    2.500000   \n",
       "50%    250.500000  317.000000   107.000000           3.000000    3.500000   \n",
       "75%    375.250000  325.000000   112.000000           4.000000    4.000000   \n",
       "max    500.000000  340.000000   120.000000           5.000000    5.000000   \n",
       "\n",
       "            LOR         CGPA    Research  Chance of Admit   \n",
       "count  500.00000  500.000000  500.000000         500.00000  \n",
       "mean     3.48400    8.576440    0.560000           0.72174  \n",
       "std      0.92545    0.604813    0.496884           0.14114  \n",
       "min      1.00000    6.800000    0.000000           0.34000  \n",
       "25%      3.00000    8.127500    0.000000           0.63000  \n",
       "50%      3.50000    8.560000    1.000000           0.72000  \n",
       "75%      4.00000    9.040000    1.000000           0.82000  \n",
       "max      5.00000    9.920000    1.000000           0.97000  "
      ]
     },
     "execution_count": 234,
     "metadata": {},
     "output_type": "execute_result"
    }
   ],
   "source": [
    "data.describe()\n",
    "# This method returns the statistical summary of the data \n",
    "# Different Ranges of the attributes immplies that Normalization of the\n",
    "# data before fitting the model is crusial for this data"
   ]
  },
  {
   "cell_type": "markdown",
   "id": "57b3b310",
   "metadata": {},
   "source": [
    "    c) Univariate Analysis (distribution plots of all the continuous variable(s) barplots/countplots of all the categorical variables)\n",
    "    Bivariate Analysis (Relationships between important variables such as workday and count, season and count, weather and count."
   ]
  },
  {
   "cell_type": "markdown",
   "id": "b6d387e7",
   "metadata": {},
   "source": [
    "### Univariate Analysis "
   ]
  },
  {
   "cell_type": "code",
   "execution_count": 235,
   "id": "b001aecd",
   "metadata": {
    "scrolled": false
   },
   "outputs": [
    {
     "data": {
      "image/png": "[encoded data removed]",
      "text/plain": [
       "<Figure size 576x432 with 1 Axes>"
      ]
     },
     "metadata": {
      "needs_background": "light"
     },
     "output_type": "display_data"
    },
    {
     "data": {
      "image/png": "[encoded data removed]",
      "text/plain": [
       "<Figure size 576x432 with 1 Axes>"
      ]
     },
     "metadata": {
      "needs_background": "light"
     },
     "output_type": "display_data"
    },
    {
     "data": {
      "image/png": "[encoded data removed]",
      "text/plain": [
       "<Figure size 576x432 with 1 Axes>"
      ]
     },
     "metadata": {
      "needs_background": "light"
     },
     "output_type": "display_data"
    },
    {
     "data": {
      "image/png": "[encoded data removed]",
      "text/plain": [
       "<Figure size 576x432 with 1 Axes>"
      ]
     },
     "metadata": {
      "needs_background": "light"
     },
     "output_type": "display_data"
    },
    {
     "data": {
      "image/png": "[encoded data removed]",
      "text/plain": [
       "<Figure size 576x432 with 1 Axes>"
      ]
     },
     "metadata": {
      "needs_background": "light"
     },
     "output_type": "display_data"
    },
    {
     "data": {
      "image/png": "[encoded data removed]",
      "text/plain": [
       "<Figure size 576x432 with 1 Axes>"
      ]
     },
     "metadata": {
      "needs_background": "light"
     },
     "output_type": "display_data"
    },
    {
     "data": {
      "image/png": "[encoded data removed]",
      "text/plain": [
       "<Figure size 576x432 with 1 Axes>"
      ]
     },
     "metadata": {
      "needs_background": "light"
     },
     "output_type": "display_data"
    },
    {
     "data": {
      "image/png": "[encoded data removed]",
      "text/plain": [
       "<Figure size 576x432 with 1 Axes>"
      ]
     },
     "metadata": {
      "needs_background": "light"
     },
     "output_type": "display_data"
    },
    {
     "data": {
      "image/png": "[encoded data removed]",
      "text/plain": [
       "<Figure size 576x432 with 1 Axes>"
      ]
     },
     "metadata": {
      "needs_background": "light"
     },
     "output_type": "display_data"
    }
   ],
   "source": [
    "for i in data.columns:\n",
    "    plt.figure(figsize=(8, 6))\n",
    "    sns.histplot(data[i], kde=True, bins=30, color='skyblue')\n",
    "    plt.title(f'Boxplot of {i}')\n",
    "    plt.xlabel(i)\n",
    "    plt.show()"
   ]
  },
  {
   "cell_type": "markdown",
   "id": "d209b049",
   "metadata": {},
   "source": [
    "Except SOP all other histplots show that the attributes are following Normal Distributions therefore no special treatment is intended."
   ]
  },
  {
   "cell_type": "markdown",
   "id": "bfc1a757",
   "metadata": {},
   "source": [
    "### Bivariate Analysis"
   ]
  },
  {
   "cell_type": "code",
   "execution_count": 236,
   "id": "8aa15319",
   "metadata": {},
   "outputs": [
    {
     "data": {
      "image/png": "[encoded data removed]",
      "text/plain": [
       "<Figure size 864x720 with 2 Axes>"
      ]
     },
     "metadata": {
      "needs_background": "light"
     },
     "output_type": "display_data"
    }
   ],
   "source": [
    "correlation_matrix = data.corr()\n",
    "plt.figure(figsize=(12, 10))\n",
    "sns.heatmap(correlation_matrix, annot=True, cmap='coolwarm', fmt='.2f', linewidths=0.5)\n",
    "plt.title('Correlation Heatmap of Attributes')\n",
    "plt.show()"
   ]
  },
  {
   "cell_type": "markdown",
   "id": "2c327eaf",
   "metadata": {},
   "source": [
    "'''\n",
    "\n",
    "GRE Score, TOFEL Score, CGPA have stronger correlation \n",
    "with chance of admit.But we can observe that almost all the correlation\n",
    "values are greater than 0.5 which suggests each of the variable is \n",
    "contributing in deciding the chance of admit. \n",
    "\n",
    "'''"
   ]
  },
  {
   "cell_type": "markdown",
   "id": "20033279",
   "metadata": {},
   "source": [
    "    d) Illustrate the insights based on EDA\n",
    "    \n",
    "        - Comments on range of attributes, outliers of various attributes\n",
    "        - Comments on the distribution of the variables and relationship between them\n",
    "        - Comments for each univariate and bivariate plots"
   ]
  },
  {
   "cell_type": "markdown",
   "id": "edeb1984",
   "metadata": {},
   "source": [
    "NOTE: All the necessary comments are added below each subsection of analysis"
   ]
  },
  {
   "cell_type": "markdown",
   "id": "19c6ff71",
   "metadata": {},
   "source": [
    "## Data Preprocessing "
   ]
  },
  {
   "cell_type": "markdown",
   "id": "bd9d8330",
   "metadata": {},
   "source": [
    "### Duplicate value check"
   ]
  },
  {
   "cell_type": "code",
   "execution_count": 237,
   "id": "67146dc4",
   "metadata": {},
   "outputs": [
    {
     "data": {
      "text/plain": [
       "0"
      ]
     },
     "execution_count": 237,
     "metadata": {},
     "output_type": "execute_result"
    }
   ],
   "source": [
    "len(data[data.duplicated()]) \n",
    "# No of duplicated rows is zero therefore there is no need\n",
    "# to remove any row"
   ]
  },
  {
   "cell_type": "markdown",
   "id": "dcc52f7c",
   "metadata": {},
   "source": [
    "### Missing value treatment"
   ]
  },
  {
   "cell_type": "code",
   "execution_count": 238,
   "id": "2797d22f",
   "metadata": {},
   "outputs": [
    {
     "data": {
      "text/plain": [
       "Serial No.           0\n",
       "GRE Score            0\n",
       "TOEFL Score          0\n",
       "University Rating    0\n",
       "SOP                  0\n",
       "LOR                  0\n",
       "CGPA                 0\n",
       "Research             0\n",
       "Chance of Admit      0\n",
       "dtype: int64"
      ]
     },
     "execution_count": 238,
     "metadata": {},
     "output_type": "execute_result"
    }
   ],
   "source": [
    "data.isnull().sum()\n",
    "# There are no missing values in any of the attributes present"
   ]
  },
  {
   "cell_type": "markdown",
   "id": "cf2b4264",
   "metadata": {},
   "source": [
    "### Outlier treatment"
   ]
  },
  {
   "cell_type": "code",
   "execution_count": 239,
   "id": "95f66ff6",
   "metadata": {},
   "outputs": [
    {
     "data": {
      "image/png": "[encoded data removed]",
      "text/plain": [
       "<Figure size 1080x1800 with 10 Axes>"
      ]
     },
     "metadata": {
      "needs_background": "light"
     },
     "output_type": "display_data"
    }
   ],
   "source": [
    "import matplotlib.pyplot as plt\n",
    "import seaborn as sns\n",
    "\n",
    "# Assuming 'data' is your DataFrame\n",
    "num_cols = len(data.columns)\n",
    "num_rows = (num_cols + 1) // 2  # Ensure at least 2 rows\n",
    "\n",
    "fig, axes = plt.subplots(nrows=num_rows, ncols=2, figsize=(15, 5 * num_rows))\n",
    "\n",
    "# Flatten the axes for easier indexing\n",
    "axes = axes.flatten()\n",
    "\n",
    "# Create boxplots for each selected column\n",
    "for i, column in enumerate(data.columns):\n",
    "    sns.boxplot(x=data[column], ax=axes[i])\n",
    "    axes[i].set_title(f'Boxplot: {column}')\n",
    "\n",
    "# Hide empty subplots\n",
    "for j in range(num_cols, len(axes)):\n",
    "    axes[j].axis('off')\n",
    "\n",
    "plt.suptitle('Boxplots for Outlier Detection', y=1.02)\n",
    "plt.tight_layout()\n",
    "plt.show()"
   ]
  },
  {
   "cell_type": "markdown",
   "id": "cee1ce79",
   "metadata": {},
   "source": [
    "* There seems to be a single outlier in the entire data where the LOR is 1 and the chance of admit is zero. But it doesn't seem to be a technical or data error hence removel of the outlier record is not a suitable action to proceed"
   ]
  },
  {
   "cell_type": "markdown",
   "id": "3b145ff8",
   "metadata": {},
   "source": [
    "### Feature engineering & Data preparation for modeling"
   ]
  },
  {
   "cell_type": "code",
   "execution_count": 240,
   "id": "4e7a8c01",
   "metadata": {},
   "outputs": [],
   "source": [
    "# Removing the Serial No attribute as it doesn't contribute any thing\n",
    "data.drop(['Serial No.'],axis=1,inplace=True)"
   ]
  },
  {
   "cell_type": "code",
   "execution_count": 241,
   "id": "4352ba7f",
   "metadata": {},
   "outputs": [],
   "source": [
    "# Separating data and labels\n",
    "X = data.drop(['Chance of Admit '],axis=1)\n",
    "y = data['Chance of Admit ']"
   ]
  },
  {
   "cell_type": "code",
   "execution_count": 242,
   "id": "eccb434c",
   "metadata": {},
   "outputs": [
    {
     "data": {
      "text/html": [
       "<div>\n",
       "<style scoped>\n",
       "    .dataframe tbody tr th:only-of-type {\n",
       "        vertical-align: middle;\n",
       "    }\n",
       "\n",
       "    .dataframe tbody tr th {\n",
       "        vertical-align: top;\n",
       "    }\n",
       "\n",
       "    .dataframe thead th {\n",
       "        text-align: right;\n",
       "    }\n",
       "</style>\n",
       "<table border=\"1\" class=\"dataframe\">\n",
       "  <thead>\n",
       "    <tr style=\"text-align: right;\">\n",
       "      <th></th>\n",
       "      <th>GRE Score</th>\n",
       "      <th>TOEFL Score</th>\n",
       "      <th>University Rating</th>\n",
       "      <th>SOP</th>\n",
       "      <th>LOR</th>\n",
       "      <th>CGPA</th>\n",
       "      <th>Research</th>\n",
       "    </tr>\n",
       "  </thead>\n",
       "  <tbody>\n",
       "    <tr>\n",
       "      <th>0</th>\n",
       "      <td>1.819238</td>\n",
       "      <td>1.778865</td>\n",
       "      <td>0.775582</td>\n",
       "      <td>1.137360</td>\n",
       "      <td>1.098944</td>\n",
       "      <td>1.776806</td>\n",
       "      <td>0.886405</td>\n",
       "    </tr>\n",
       "    <tr>\n",
       "      <th>1</th>\n",
       "      <td>0.667148</td>\n",
       "      <td>-0.031601</td>\n",
       "      <td>0.775582</td>\n",
       "      <td>0.632315</td>\n",
       "      <td>1.098944</td>\n",
       "      <td>0.485859</td>\n",
       "      <td>0.886405</td>\n",
       "    </tr>\n",
       "    <tr>\n",
       "      <th>2</th>\n",
       "      <td>-0.041830</td>\n",
       "      <td>-0.525364</td>\n",
       "      <td>-0.099793</td>\n",
       "      <td>-0.377773</td>\n",
       "      <td>0.017306</td>\n",
       "      <td>-0.954043</td>\n",
       "      <td>0.886405</td>\n",
       "    </tr>\n",
       "    <tr>\n",
       "      <th>3</th>\n",
       "      <td>0.489904</td>\n",
       "      <td>0.462163</td>\n",
       "      <td>-0.099793</td>\n",
       "      <td>0.127271</td>\n",
       "      <td>-1.064332</td>\n",
       "      <td>0.154847</td>\n",
       "      <td>0.886405</td>\n",
       "    </tr>\n",
       "    <tr>\n",
       "      <th>4</th>\n",
       "      <td>-0.219074</td>\n",
       "      <td>-0.689952</td>\n",
       "      <td>-0.975168</td>\n",
       "      <td>-1.387862</td>\n",
       "      <td>-0.523513</td>\n",
       "      <td>-0.606480</td>\n",
       "      <td>-1.128152</td>\n",
       "    </tr>\n",
       "  </tbody>\n",
       "</table>\n",
       "</div>"
      ],
      "text/plain": [
       "   GRE Score  TOEFL Score  University Rating       SOP      LOR       CGPA  \\\n",
       "0   1.819238     1.778865           0.775582  1.137360  1.098944  1.776806   \n",
       "1   0.667148    -0.031601           0.775582  0.632315  1.098944  0.485859   \n",
       "2  -0.041830    -0.525364          -0.099793 -0.377773  0.017306 -0.954043   \n",
       "3   0.489904     0.462163          -0.099793  0.127271 -1.064332  0.154847   \n",
       "4  -0.219074    -0.689952          -0.975168 -1.387862 -0.523513 -0.606480   \n",
       "\n",
       "   Research  \n",
       "0  0.886405  \n",
       "1  0.886405  \n",
       "2  0.886405  \n",
       "3  0.886405  \n",
       "4 -1.128152  "
      ]
     },
     "execution_count": 242,
     "metadata": {},
     "output_type": "execute_result"
    }
   ],
   "source": [
    "# Normalizing the Data\n",
    "from sklearn.preprocessing import StandardScaler\n",
    "scaler = StandardScaler()\n",
    "columns = X.columns\n",
    "trans_X = pd.DataFrame(scaler.fit_transform(X),columns=columns)\n",
    "trans_X.head()"
   ]
  },
  {
   "cell_type": "markdown",
   "id": "17169f52",
   "metadata": {},
   "source": [
    "# Model building"
   ]
  },
  {
   "cell_type": "markdown",
   "id": "9cb3f4f6",
   "metadata": {},
   "source": [
    "    Build the Linear Regression model and comment on the model statistics"
   ]
  },
  {
   "cell_type": "code",
   "execution_count": 243,
   "id": "99123ed9",
   "metadata": {},
   "outputs": [
    {
     "name": "stdout",
     "output_type": "stream",
     "text": [
      "Coefficients: [0.00185851 0.00277797 0.00594137 0.00158614 0.01685874 0.11838505\n",
      " 0.02430748]\n",
      "Intercept: -1.2757250829969842\n",
      "Mean Score: 0.8131223770253244\n",
      "Standard Deviation of Score: 0.07783056953754525\n"
     ]
    }
   ],
   "source": [
    "from sklearn.linear_model import LinearRegression\n",
    "from sklearn.model_selection import cross_val_score,cross_val_predict\n",
    "\n",
    "lr_reg = LinearRegression()\n",
    "\n",
    "# Train the linear regression model on the entire dataset\n",
    "lr_reg.fit(X, y)\n",
    "\n",
    "# Access the coefficients and intercept of the best model\n",
    "coef = lr_reg.coef_\n",
    "intercept = lr_reg.intercept_\n",
    "\n",
    "# Display the coefficients and intercept\n",
    "print(\"Coefficients:\", coef)\n",
    "print(\"Intercept:\", intercept)\n",
    "\n",
    "# Print mean and standard deviation of cross-validated scores\n",
    "score = cross_val_score(lr_reg, X, y, cv=10)\n",
    "print(\"Mean Score:\", score.mean())\n",
    "print(\"Standard Deviation of Score:\", score.std())"
   ]
  },
  {
   "cell_type": "code",
   "execution_count": 244,
   "id": "bef6d23d",
   "metadata": {},
   "outputs": [
    {
     "data": {
      "text/html": [
       "<div>\n",
       "<style scoped>\n",
       "    .dataframe tbody tr th:only-of-type {\n",
       "        vertical-align: middle;\n",
       "    }\n",
       "\n",
       "    .dataframe tbody tr th {\n",
       "        vertical-align: top;\n",
       "    }\n",
       "\n",
       "    .dataframe thead th {\n",
       "        text-align: right;\n",
       "    }\n",
       "</style>\n",
       "<table border=\"1\" class=\"dataframe\">\n",
       "  <thead>\n",
       "    <tr style=\"text-align: right;\">\n",
       "      <th></th>\n",
       "      <th>0</th>\n",
       "    </tr>\n",
       "  </thead>\n",
       "  <tbody>\n",
       "    <tr>\n",
       "      <th>count</th>\n",
       "      <td>10.000000</td>\n",
       "    </tr>\n",
       "    <tr>\n",
       "      <th>mean</th>\n",
       "      <td>0.813122</td>\n",
       "    </tr>\n",
       "    <tr>\n",
       "      <th>std</th>\n",
       "      <td>0.082041</td>\n",
       "    </tr>\n",
       "    <tr>\n",
       "      <th>min</th>\n",
       "      <td>0.634268</td>\n",
       "    </tr>\n",
       "    <tr>\n",
       "      <th>25%</th>\n",
       "      <td>0.773234</td>\n",
       "    </tr>\n",
       "    <tr>\n",
       "      <th>50%</th>\n",
       "      <td>0.818772</td>\n",
       "    </tr>\n",
       "    <tr>\n",
       "      <th>75%</th>\n",
       "      <td>0.873695</td>\n",
       "    </tr>\n",
       "    <tr>\n",
       "      <th>max</th>\n",
       "      <td>0.919606</td>\n",
       "    </tr>\n",
       "  </tbody>\n",
       "</table>\n",
       "</div>"
      ],
      "text/plain": [
       "               0\n",
       "count  10.000000\n",
       "mean    0.813122\n",
       "std     0.082041\n",
       "min     0.634268\n",
       "25%     0.773234\n",
       "50%     0.818772\n",
       "75%     0.873695\n",
       "max     0.919606"
      ]
     },
     "execution_count": 244,
     "metadata": {},
     "output_type": "execute_result"
    }
   ],
   "source": [
    "pd.DataFrame(score).describe()"
   ]
  },
  {
   "cell_type": "markdown",
   "id": "917ff270",
   "metadata": {},
   "source": [
    "Mean score of the model is 81% with a std of 0.08. Range of the scores is in \\[0.63\\-0.91\\]"
   ]
  },
  {
   "cell_type": "markdown",
   "id": "e0d2b6bd",
   "metadata": {},
   "source": [
    "    Display model coefficients with column names"
   ]
  },
  {
   "cell_type": "code",
   "execution_count": 245,
   "id": "030190a2",
   "metadata": {},
   "outputs": [
    {
     "name": "stdout",
     "output_type": "stream",
     "text": [
      "[['GRE Score' 0.0018585064850102002]\n",
      " ['TOEFL Score' 0.0027779723914195635]\n",
      " ['University Rating' 0.005941368040176812]\n",
      " ['SOP' 0.0015861374557666085]\n",
      " ['LOR ' 0.016858742352418687]\n",
      " ['CGPA' 0.11838505345773817]\n",
      " ['Research' 0.024307478582166073]]\n"
     ]
    }
   ],
   "source": [
    "print(np.array([lr_reg.feature_names_in_,coef]).T)"
   ]
  },
  {
   "cell_type": "markdown",
   "id": "44b9bc22",
   "metadata": {},
   "source": [
    "    Try out Ridge and Lasso regression"
   ]
  },
  {
   "cell_type": "code",
   "execution_count": 246,
   "id": "f9e4b7ba",
   "metadata": {},
   "outputs": [],
   "source": [
    "from sklearn.linear_model import Ridge,Lasso"
   ]
  },
  {
   "cell_type": "code",
   "execution_count": 247,
   "id": "4e565ea4",
   "metadata": {},
   "outputs": [
    {
     "name": "stdout",
     "output_type": "stream",
     "text": [
      "Coefficients: [0.00192642 0.0028528  0.00610918 0.0018758  0.01706317 0.11542975\n",
      " 0.02407538]\n",
      "Intercept: -1.2819740284655428\n",
      "Mean Score: 0.813034910244318\n",
      "Standard Deviation of Score: 0.07797287191930335\n"
     ]
    }
   ],
   "source": [
    "lr_reg = Ridge()\n",
    "\n",
    "# Use cross_val_predict to get predictions for each fold\n",
    "y_pred = cross_val_predict(lr_reg, X, y, cv=10)\n",
    "\n",
    "# Train the linear regression model on the entire dataset\n",
    "lr_reg.fit(X, y)\n",
    "\n",
    "# Access the coefficients and intercept of the best model\n",
    "coef = lr_reg.coef_\n",
    "intercept = lr_reg.intercept_\n",
    "\n",
    "# Display the coefficients and intercept\n",
    "print(\"Coefficients:\", coef)\n",
    "print(\"Intercept:\", intercept)\n",
    "\n",
    "# Print mean and standard deviation of cross-validated scores\n",
    "score = cross_val_score(lr_reg, X, y, cv=10)\n",
    "print(\"Mean Score:\", score.mean())\n",
    "print(\"Standard Deviation of Score:\", score.std())"
   ]
  },
  {
   "cell_type": "code",
   "execution_count": 248,
   "id": "c8d7e56b",
   "metadata": {
    "scrolled": true
   },
   "outputs": [
    {
     "name": "stdout",
     "output_type": "stream",
     "text": [
      "Coefficients: [0.00227197 0.         0.         0.         0.         0.\n",
      " 0.        ]\n",
      "Intercept: 0.002725982573632657\n",
      "Mean Score: 0.214816426894291\n",
      "Standard Deviation of Score: 0.08527426311248522\n"
     ]
    }
   ],
   "source": [
    "lr_reg = Lasso()\n",
    "\n",
    "# Use cross_val_predict to get predictions for each fold\n",
    "y_pred = cross_val_predict(lr_reg, X, y, cv=10)\n",
    "\n",
    "# Train the linear regression model on the entire dataset\n",
    "lr_reg.fit(X, y)\n",
    "\n",
    "# Access the coefficients and intercept of the best model\n",
    "coef = lr_reg.coef_\n",
    "intercept = lr_reg.intercept_\n",
    "\n",
    "# Display the coefficients and intercept\n",
    "print(\"Coefficients:\", coef)\n",
    "print(\"Intercept:\", intercept)\n",
    "\n",
    "# Print mean and standard deviation of cross-validated scores\n",
    "score = cross_val_score(lr_reg, X, y, cv=10)\n",
    "print(\"Mean Score:\", score.mean())\n",
    "print(\"Standard Deviation of Score:\", score.std())"
   ]
  },
  {
   "cell_type": "markdown",
   "id": "a6be3902",
   "metadata": {},
   "source": [
    "Rasso could able to enhance in terms of the std of the scores where as Lasso miserably failed to fit properly."
   ]
  },
  {
   "cell_type": "markdown",
   "id": "a36ebc03",
   "metadata": {},
   "source": [
    "## Testing the assumptions of the linear regression model"
   ]
  },
  {
   "cell_type": "markdown",
   "id": "45ed68e5",
   "metadata": {},
   "source": [
    "* Multicollinearity check by VIF score (variables are dropped one-by-one till none has VIF>5) (10 Points)"
   ]
  },
  {
   "cell_type": "code",
   "execution_count": 249,
   "id": "0edffc40",
   "metadata": {},
   "outputs": [
    {
     "name": "stdout",
     "output_type": "stream",
     "text": [
      "GRE Score 5.462855234031056\n",
      "TOEFL Score 5.154420732710523\n",
      "University Rating 5.097402281547037\n",
      "SOP 5.066723100024309\n",
      "LOR  4.8300353906353495\n",
      "CGPA 2.1045255780664416\n",
      "Research 4.766805094002033\n"
     ]
    }
   ],
   "source": [
    "def vif(data):\n",
    "    lr_reg = LinearRegression()\n",
    "    lr_reg.fit(data, y)\n",
    "    r_squared = r2_score(y,lr_reg.predict(data))\n",
    "    vif = 1 / (1 - r_squared)\n",
    "    return vif\n",
    "    \n",
    "def calc_vif():\n",
    "    for i in data.columns:\n",
    "        vif_score = vif(data.drop(i,axis=1))\n",
    "        print(i,vif_score)\n",
    "        if vif_score>5:\n",
    "            data.drop(i,axis=1,inplace=True)\n",
    "    \n",
    "data = X\n",
    "target = y\n",
    "calc_vif()"
   ]
  },
  {
   "cell_type": "code",
   "execution_count": 250,
   "id": "44226dd4",
   "metadata": {},
   "outputs": [
    {
     "data": {
      "text/html": [
       "<div>\n",
       "<style scoped>\n",
       "    .dataframe tbody tr th:only-of-type {\n",
       "        vertical-align: middle;\n",
       "    }\n",
       "\n",
       "    .dataframe tbody tr th {\n",
       "        vertical-align: top;\n",
       "    }\n",
       "\n",
       "    .dataframe thead th {\n",
       "        text-align: right;\n",
       "    }\n",
       "</style>\n",
       "<table border=\"1\" class=\"dataframe\">\n",
       "  <thead>\n",
       "    <tr style=\"text-align: right;\">\n",
       "      <th></th>\n",
       "      <th>LOR</th>\n",
       "      <th>CGPA</th>\n",
       "      <th>Research</th>\n",
       "    </tr>\n",
       "  </thead>\n",
       "  <tbody>\n",
       "    <tr>\n",
       "      <th>0</th>\n",
       "      <td>4.5</td>\n",
       "      <td>9.65</td>\n",
       "      <td>1</td>\n",
       "    </tr>\n",
       "    <tr>\n",
       "      <th>1</th>\n",
       "      <td>4.5</td>\n",
       "      <td>8.87</td>\n",
       "      <td>1</td>\n",
       "    </tr>\n",
       "    <tr>\n",
       "      <th>2</th>\n",
       "      <td>3.5</td>\n",
       "      <td>8.00</td>\n",
       "      <td>1</td>\n",
       "    </tr>\n",
       "    <tr>\n",
       "      <th>3</th>\n",
       "      <td>2.5</td>\n",
       "      <td>8.67</td>\n",
       "      <td>1</td>\n",
       "    </tr>\n",
       "    <tr>\n",
       "      <th>4</th>\n",
       "      <td>3.0</td>\n",
       "      <td>8.21</td>\n",
       "      <td>0</td>\n",
       "    </tr>\n",
       "    <tr>\n",
       "      <th>...</th>\n",
       "      <td>...</td>\n",
       "      <td>...</td>\n",
       "      <td>...</td>\n",
       "    </tr>\n",
       "    <tr>\n",
       "      <th>495</th>\n",
       "      <td>4.0</td>\n",
       "      <td>9.02</td>\n",
       "      <td>1</td>\n",
       "    </tr>\n",
       "    <tr>\n",
       "      <th>496</th>\n",
       "      <td>5.0</td>\n",
       "      <td>9.87</td>\n",
       "      <td>1</td>\n",
       "    </tr>\n",
       "    <tr>\n",
       "      <th>497</th>\n",
       "      <td>5.0</td>\n",
       "      <td>9.56</td>\n",
       "      <td>1</td>\n",
       "    </tr>\n",
       "    <tr>\n",
       "      <th>498</th>\n",
       "      <td>5.0</td>\n",
       "      <td>8.43</td>\n",
       "      <td>0</td>\n",
       "    </tr>\n",
       "    <tr>\n",
       "      <th>499</th>\n",
       "      <td>4.5</td>\n",
       "      <td>9.04</td>\n",
       "      <td>0</td>\n",
       "    </tr>\n",
       "  </tbody>\n",
       "</table>\n",
       "<p>500 rows × 3 columns</p>\n",
       "</div>"
      ],
      "text/plain": [
       "     LOR   CGPA  Research\n",
       "0     4.5  9.65         1\n",
       "1     4.5  8.87         1\n",
       "2     3.5  8.00         1\n",
       "3     2.5  8.67         1\n",
       "4     3.0  8.21         0\n",
       "..    ...   ...       ...\n",
       "495   4.0  9.02         1\n",
       "496   5.0  9.87         1\n",
       "497   5.0  9.56         1\n",
       "498   5.0  8.43         0\n",
       "499   4.5  9.04         0\n",
       "\n",
       "[500 rows x 3 columns]"
      ]
     },
     "execution_count": 250,
     "metadata": {},
     "output_type": "execute_result"
    }
   ],
   "source": [
    "data"
   ]
  },
  {
   "cell_type": "markdown",
   "id": "6c2d9b21",
   "metadata": {},
   "source": [
    "* The mean of residuals is nearly zero (10 Points)\n",
    "* Linearity of variables (no pattern in the residual plot) (10 Points)"
   ]
  },
  {
   "cell_type": "code",
   "execution_count": 251,
   "id": "ebad7d41",
   "metadata": {},
   "outputs": [
    {
     "data": {
      "image/png": "[encoded data removed]",
      "text/plain": [
       "<Figure size 432x288 with 1 Axes>"
      ]
     },
     "metadata": {
      "needs_background": "light"
     },
     "output_type": "display_data"
    }
   ],
   "source": [
    "import matplotlib.pyplot as plt\n",
    "import seaborn as sns\n",
    "\n",
    "lr_reg = LinearRegression()\n",
    "lr_reg.fit(X, y)\n",
    "y_pred = lr_reg.predict(X)\n",
    "residuals = y - y_pred\n",
    "\n",
    "plt.scatter(y_pred, residuals)\n",
    "plt.axhline(y=0, color='r', linestyle='--', linewidth=2)\n",
    "plt.xlabel('Fitted Values')\n",
    "plt.ylabel('Residuals')\n",
    "plt.title('Residual Plot')\n",
    "plt.show()"
   ]
  },
  {
   "cell_type": "code",
   "execution_count": 252,
   "id": "1ca30a9e",
   "metadata": {},
   "outputs": [
    {
     "name": "stdout",
     "output_type": "stream",
     "text": [
      "Shapiro-Wilk p-value: 1.3115985077541414e-12\n",
      "t-test p-value: 0.9999999999998698\n"
     ]
    }
   ],
   "source": [
    "from scipy.stats import shapiro, ttest_1samp\n",
    "\n",
    "# Shapiro-Wilk test for normality\n",
    "_, p_value_shapiro = shapiro(residuals)\n",
    "print(f'Shapiro-Wilk p-value: {p_value_shapiro}')\n",
    "\n",
    "# t-test for the mean of residuals\n",
    "_, p_value_ttest = ttest_1samp(residuals, 0)\n",
    "print(f't-test p-value: {p_value_ttest}')"
   ]
  },
  {
   "cell_type": "code",
   "execution_count": 253,
   "id": "b0ad345c",
   "metadata": {},
   "outputs": [
    {
     "data": {
      "text/plain": [
       "count    5.000000e+02\n",
       "mean    -4.597434e-16\n",
       "std      6.270292e-02\n",
       "min     -2.578812e-01\n",
       "25%     -2.551549e-02\n",
       "50%      7.308797e-03\n",
       "75%      3.760494e-02\n",
       "max      1.886331e-01\n",
       "Name: Chance of Admit , dtype: float64"
      ]
     },
     "execution_count": 253,
     "metadata": {},
     "output_type": "execute_result"
    }
   ],
   "source": [
    "residuals.describe()"
   ]
  },
  {
   "cell_type": "markdown",
   "id": "2fb92a5c",
   "metadata": {},
   "source": [
    "    The Shapiro-Wilk test suggests non-normality of residuals (p-value: 1.31e-12), while the t-test indicates that the mean of residuals is not significantly different from zero (p-value: 1.0). Consider the non-normality result in the context of the analysis."
   ]
  },
  {
   "cell_type": "markdown",
   "id": "e29e40dd",
   "metadata": {},
   "source": [
    "* Test for Homoscedasticity (10 Points)"
   ]
  },
  {
   "cell_type": "code",
   "execution_count": 254,
   "id": "8e377a79",
   "metadata": {},
   "outputs": [
    {
     "name": "stdout",
     "output_type": "stream",
     "text": [
      "Goldfeld-Quandt test p-value: 0.9999998578064505\n"
     ]
    }
   ],
   "source": [
    "from statsmodels.stats.diagnostic import het_goldfeldquandt\n",
    "gq_test_stat, gq_p_value, _ = het_goldfeldquandt(residuals, X)\n",
    "print(f\"Goldfeld-Quandt test p-value: {gq_p_value}\")"
   ]
  },
  {
   "cell_type": "markdown",
   "id": "87133314",
   "metadata": {},
   "source": [
    "    The Goldfeld-Quandt test yields a p-value of approximately 1.0, indicating no significant evidence against the assumption of homoscedasticity in the model. This suggests that the variance of residuals remains relatively constant across different levels of the independent variable(s)."
   ]
  },
  {
   "cell_type": "markdown",
   "id": "b21c33c7",
   "metadata": {},
   "source": [
    "* Normality of residuals (almost bell-shaped curve in residuals distribution, points in QQ plot are almost all on the line) (10 Points)"
   ]
  },
  {
   "cell_type": "code",
   "execution_count": 255,
   "id": "c166ea3f",
   "metadata": {},
   "outputs": [
    {
     "data": {
      "image/png": "[encoded data removed]",
      "text/plain": [
       "<Figure size 576x432 with 1 Axes>"
      ]
     },
     "metadata": {
      "needs_background": "light"
     },
     "output_type": "display_data"
    }
   ],
   "source": [
    "import numpy as np\n",
    "import matplotlib.pyplot as plt\n",
    "from scipy.stats import probplot\n",
    "\n",
    "# Assuming 'residuals' is your array of residuals\n",
    "_, ax = plt.subplots(figsize=(8, 6))\n",
    "\n",
    "# Create a QQ plot\n",
    "probplot(residuals, plot=ax, fit=True)\n",
    "\n",
    "# Set plot labels and title\n",
    "ax.set_title('QQ Plot of Residuals')\n",
    "ax.set_xlabel('Theoretical Quantiles')\n",
    "ax.set_ylabel('Sample Quantiles')\n",
    "\n",
    "plt.show()"
   ]
  },
  {
   "cell_type": "markdown",
   "id": "74284290",
   "metadata": {},
   "source": [
    "    Since, QQ Plot Points Align with the Line:\n",
    "    Indicates that the residuals follow a normal distribution."
   ]
  },
  {
   "cell_type": "markdown",
   "id": "93807b74",
   "metadata": {},
   "source": [
    "## Model performance evaluation"
   ]
  },
  {
   "cell_type": "markdown",
   "id": "fe467ad7",
   "metadata": {},
   "source": [
    "Metrics checked - MAE, RMSE, R2, Adj R2"
   ]
  },
  {
   "cell_type": "code",
   "execution_count": 256,
   "id": "60b9e88d",
   "metadata": {},
   "outputs": [
    {
     "name": "stdout",
     "output_type": "stream",
     "text": [
      "Mean Absolute Error (MAE): 0.04544062797124104\n",
      "Root Mean Squared Error (RMSE): 0.06264018641455692\n",
      "R-squared (R2): 0.8026337772444675\n",
      "Adjusted R-squared (Adjusted R2): 0.8014400299294139\n"
     ]
    }
   ],
   "source": [
    "from sklearn.metrics import mean_absolute_error, mean_squared_error, r2_score\n",
    "import numpy as np\n",
    "\n",
    "y_pred = lr_reg.predict(X)\n",
    "\n",
    "# Mean Absolute Error (MAE)\n",
    "mae = mean_absolute_error(y, y_pred)\n",
    "print(f'Mean Absolute Error (MAE): {mae}')\n",
    "\n",
    "# Root Mean Squared Error (RMSE)\n",
    "rmse = np.sqrt(mean_squared_error(y, y_pred))\n",
    "print(f'Root Mean Squared Error (RMSE): {rmse}')\n",
    "\n",
    "# R-squared (R2)\n",
    "r2 = r2_score(y, y_pred)\n",
    "print(f'R-squared (R2): {r2}')\n",
    "\n",
    "# Adjusted R-squared (Adjusted R2)\n",
    "n = len(y)  # Number of observations\n",
    "p = X.shape[1]   # Number of predictors/features (including intercept if present)\n",
    "\n",
    "adjusted_r2 = 1 - (1 - r2) * (n - 1) / (n - p - 1)\n",
    "print(f'Adjusted R-squared (Adjusted R2): {adjusted_r2}')\n"
   ]
  },
  {
   "cell_type": "markdown",
   "id": "3398b1fc",
   "metadata": {},
   "source": [
    "Train and test performances are checked"
   ]
  },
  {
   "cell_type": "code",
   "execution_count": 257,
   "id": "c906b3a8",
   "metadata": {},
   "outputs": [
    {
     "name": "stdout",
     "output_type": "stream",
     "text": [
      "Mean Absolute Error (MAE): 0.04333658979076691\n",
      "Root Mean Squared Error (RMSE): 0.06097143188582047\n",
      "R-squared (R2): 0.8102707283171227\n",
      "Adjusted R-squared (Adjusted R2): 0.8091231722383956\n"
     ]
    }
   ],
   "source": [
    "from sklearn.model_selection import train_test_split\n",
    "train_data,test_data,train_label,test_label = train_test_split(X,y,test_size=0.2)\n",
    "lr_reg = LinearRegression()\n",
    "lr_reg.fit(train_data, train_label)\n",
    "y_pred = lr_reg.predict(test_data)\n",
    "\n",
    "# Mean Absolute Error (MAE)\n",
    "mae = mean_absolute_error(test_label, y_pred)\n",
    "print(f'Mean Absolute Error (MAE): {mae}')\n",
    "\n",
    "# Root Mean Squared Error (RMSE)\n",
    "rmse = np.sqrt(mean_squared_error(test_label, y_pred))\n",
    "print(f'Root Mean Squared Error (RMSE): {rmse}')\n",
    "\n",
    "# R-squared (R2)\n",
    "r2 = r2_score(test_label, y_pred)\n",
    "print(f'R-squared (R2): {r2}')\n",
    "\n",
    "# Adjusted R-squared (Adjusted R2)\n",
    "n = len(y)  # Number of observations\n",
    "p = X.shape[1]   # Number of predictors/features (including intercept if present)\n",
    "\n",
    "adjusted_r2 = 1 - (1 - r2) * (n - 1) / (n - p - 1)\n",
    "print(f'Adjusted R-squared (Adjusted R2): {adjusted_r2}')"
   ]
  },
  {
   "cell_type": "markdown",
   "id": "aabe6bb4",
   "metadata": {},
   "source": [
    "Comments on the performance measures and if there is any need to improve the model or not"
   ]
  },
  {
   "cell_type": "markdown",
   "id": "5677c83a",
   "metadata": {},
   "source": [
    "* There is no much difference between the test and train performance of the model this emphasis that model is well generalized"
   ]
  },
  {
   "cell_type": "markdown",
   "id": "d71820b1",
   "metadata": {},
   "source": [
    "# Actionable Insights & Recommendations"
   ]
  },
  {
   "cell_type": "markdown",
   "id": "4e8d483b",
   "metadata": {},
   "source": [
    "    Comments on significance of predictor variables"
   ]
  },
  {
   "cell_type": "markdown",
   "id": "5a7a4da1",
   "metadata": {},
   "source": [
    "* The VIF scores for GRE Score, TOEFL Score, University Rating, SOP, LOR, and Research indicate moderate multicollinearity.\n",
    "* CGPA has a lower VIF, suggesting lower multicollinearity.\n",
    "* The linear regression coefficients provide insights into the strength and direction of the relationship between each variable and the dependent variable.\n",
    "* Consider addressing multicollinearity, if deemed problematic, by potentially excluding correlated variables or using regularization techniques. The substantial impact of CGPA on the dependent variable is noteworthy."
   ]
  },
  {
   "cell_type": "markdown",
   "id": "7429892f",
   "metadata": {},
   "source": [
    "    Comments on additional data sources for model improvement, model implementation in real world, potential business benefits from improving the model "
   ]
  },
  {
   "cell_type": "markdown",
   "id": "a41feb34",
   "metadata": {},
   "source": [
    "* Data Enhancement:\n",
    "    Incorporate additional data such as work experience, publication records, and industry certifications to enhance the model's predictive capabilities for graduate admissions.\n",
    "\n",
    "* Real world Implementation:\n",
    "    Deploy the model in the admissions process to automate initial screenings, improve efficiency, and integrate seamlessly with existing university systems.\n",
    "\n",
    "* Continuous Improvement:\n",
    "    Establish a feedback loop for regular model reviews by admissions officers, ensuring ongoing refinement and scalability to handle high application volumes.\n",
    "\n",
    "* Business Benefits:\n",
    "    Realize efficiency gains, enhance decision-making, optimize resource allocation, gain a competitive edge, promote diversity and inclusion, and leverage data-driven insights for strategic planning.\n",
    "\n",
    "* Ethical Considerations:\n",
    "    Prioritize ethical implications, transparency, and fairness in model implementation, addressing biases and promoting diversity in university admissions."
   ]
  }
 ],
 "metadata": {
  "kernelspec": {
   "display_name": "Python 3",
   "language": "python",
   "name": "python3"
  },
  "language_info": {
   "codemirror_mode": {
    "name": "ipython",
    "version": 3
   },
   "file_extension": ".py",
   "mimetype": "text/x-python",
   "name": "python",
   "nbconvert_exporter": "python",
   "pygments_lexer": "ipython3",
   "version": "3.8.8"
  }
 },
 "nbformat": 4,
 "nbformat_minor": 5
}
