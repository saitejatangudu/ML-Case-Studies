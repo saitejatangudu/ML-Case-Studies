{
 "cells": [
  {
   "cell_type": "markdown",
   "id": "c38abbc6",
   "metadata": {},
   "source": [
    "## GMM"
   ]
  },
  {
   "cell_type": "markdown",
   "id": "12f9b62b",
   "metadata": {},
   "source": [
    "* Find the parameters of GMM associated with the customer-dataset, using the EM method. Vary the number of components, and observe the results. Implement GMM in a class which has the routines to fit data (e.g. gmm.fit(data, number of clusters)), a routine to obtain the parameters, a routine to calculate the likelihoods for a given set of samples and a routine to obtain the membership values of data samples."
   ]
  },
  {
   "cell_type": "markdown",
   "id": "96f74b1b",
   "metadata": {},
   "source": [
    "## Data Preprocessing"
   ]
  },
  {
   "cell_type": "code",
   "execution_count": 1,
   "id": "4e4013ca",
   "metadata": {},
   "outputs": [],
   "source": [
    "import pandas as pd\n",
    "import numpy as np"
   ]
  },
  {
   "cell_type": "code",
   "execution_count": 2,
   "id": "0bd073fd",
   "metadata": {},
   "outputs": [],
   "source": [
    "data = pd.read_csv(\"data.csv\")"
   ]
  },
  {
   "cell_type": "code",
   "execution_count": 3,
   "id": "3fe8ec75",
   "metadata": {},
   "outputs": [
    {
     "data": {
      "text/html": [
       "<div>\n",
       "<style scoped>\n",
       "    .dataframe tbody tr th:only-of-type {\n",
       "        vertical-align: middle;\n",
       "    }\n",
       "\n",
       "    .dataframe tbody tr th {\n",
       "        vertical-align: top;\n",
       "    }\n",
       "\n",
       "    .dataframe thead th {\n",
       "        text-align: right;\n",
       "    }\n",
       "</style>\n",
       "<table border=\"1\" class=\"dataframe\">\n",
       "  <thead>\n",
       "    <tr style=\"text-align: right;\">\n",
       "      <th></th>\n",
       "      <th>Index</th>\n",
       "      <th>Gender</th>\n",
       "      <th>Marital status</th>\n",
       "      <th>Age</th>\n",
       "      <th>Education</th>\n",
       "      <th>Income</th>\n",
       "      <th>Occupation</th>\n",
       "      <th>Settlement size</th>\n",
       "    </tr>\n",
       "  </thead>\n",
       "  <tbody>\n",
       "    <tr>\n",
       "      <th>0</th>\n",
       "      <td>0</td>\n",
       "      <td>0</td>\n",
       "      <td>0</td>\n",
       "      <td>67</td>\n",
       "      <td>2</td>\n",
       "      <td>124670</td>\n",
       "      <td>1</td>\n",
       "      <td>2</td>\n",
       "    </tr>\n",
       "    <tr>\n",
       "      <th>1</th>\n",
       "      <td>1</td>\n",
       "      <td>1</td>\n",
       "      <td>1</td>\n",
       "      <td>22</td>\n",
       "      <td>1</td>\n",
       "      <td>150773</td>\n",
       "      <td>1</td>\n",
       "      <td>2</td>\n",
       "    </tr>\n",
       "    <tr>\n",
       "      <th>2</th>\n",
       "      <td>2</td>\n",
       "      <td>0</td>\n",
       "      <td>0</td>\n",
       "      <td>49</td>\n",
       "      <td>1</td>\n",
       "      <td>89210</td>\n",
       "      <td>0</td>\n",
       "      <td>0</td>\n",
       "    </tr>\n",
       "    <tr>\n",
       "      <th>3</th>\n",
       "      <td>3</td>\n",
       "      <td>0</td>\n",
       "      <td>0</td>\n",
       "      <td>45</td>\n",
       "      <td>1</td>\n",
       "      <td>171565</td>\n",
       "      <td>1</td>\n",
       "      <td>1</td>\n",
       "    </tr>\n",
       "    <tr>\n",
       "      <th>4</th>\n",
       "      <td>4</td>\n",
       "      <td>0</td>\n",
       "      <td>0</td>\n",
       "      <td>53</td>\n",
       "      <td>1</td>\n",
       "      <td>149031</td>\n",
       "      <td>1</td>\n",
       "      <td>1</td>\n",
       "    </tr>\n",
       "  </tbody>\n",
       "</table>\n",
       "</div>"
      ],
      "text/plain": [
       "   Index  Gender  Marital status  Age  Education  Income  Occupation  \\\n",
       "0      0       0               0   67          2  124670           1   \n",
       "1      1       1               1   22          1  150773           1   \n",
       "2      2       0               0   49          1   89210           0   \n",
       "3      3       0               0   45          1  171565           1   \n",
       "4      4       0               0   53          1  149031           1   \n",
       "\n",
       "   Settlement size  \n",
       "0                2  \n",
       "1                2  \n",
       "2                0  \n",
       "3                1  \n",
       "4                1  "
      ]
     },
     "execution_count": 3,
     "metadata": {},
     "output_type": "execute_result"
    }
   ],
   "source": [
    "data.head()"
   ]
  },
  {
   "cell_type": "code",
   "execution_count": 4,
   "id": "207739ca",
   "metadata": {},
   "outputs": [
    {
     "data": {
      "text/html": [
       "<div>\n",
       "<style scoped>\n",
       "    .dataframe tbody tr th:only-of-type {\n",
       "        vertical-align: middle;\n",
       "    }\n",
       "\n",
       "    .dataframe tbody tr th {\n",
       "        vertical-align: top;\n",
       "    }\n",
       "\n",
       "    .dataframe thead th {\n",
       "        text-align: right;\n",
       "    }\n",
       "</style>\n",
       "<table border=\"1\" class=\"dataframe\">\n",
       "  <thead>\n",
       "    <tr style=\"text-align: right;\">\n",
       "      <th></th>\n",
       "      <th>Index</th>\n",
       "      <th>Gender</th>\n",
       "      <th>Marital status</th>\n",
       "      <th>Age</th>\n",
       "      <th>Education</th>\n",
       "      <th>Income</th>\n",
       "      <th>Occupation</th>\n",
       "      <th>Settlement size</th>\n",
       "    </tr>\n",
       "  </thead>\n",
       "  <tbody>\n",
       "    <tr>\n",
       "      <th>count</th>\n",
       "      <td>2000.000000</td>\n",
       "      <td>2000.000000</td>\n",
       "      <td>2000.000000</td>\n",
       "      <td>2000.000000</td>\n",
       "      <td>2000.00000</td>\n",
       "      <td>2000.000000</td>\n",
       "      <td>2000.000000</td>\n",
       "      <td>2000.000000</td>\n",
       "    </tr>\n",
       "    <tr>\n",
       "      <th>mean</th>\n",
       "      <td>999.500000</td>\n",
       "      <td>0.457000</td>\n",
       "      <td>0.496500</td>\n",
       "      <td>35.909000</td>\n",
       "      <td>1.03800</td>\n",
       "      <td>120954.419000</td>\n",
       "      <td>0.810500</td>\n",
       "      <td>0.739000</td>\n",
       "    </tr>\n",
       "    <tr>\n",
       "      <th>std</th>\n",
       "      <td>577.494589</td>\n",
       "      <td>0.498272</td>\n",
       "      <td>0.500113</td>\n",
       "      <td>11.719402</td>\n",
       "      <td>0.59978</td>\n",
       "      <td>38108.824679</td>\n",
       "      <td>0.638587</td>\n",
       "      <td>0.812533</td>\n",
       "    </tr>\n",
       "    <tr>\n",
       "      <th>min</th>\n",
       "      <td>0.000000</td>\n",
       "      <td>0.000000</td>\n",
       "      <td>0.000000</td>\n",
       "      <td>18.000000</td>\n",
       "      <td>0.00000</td>\n",
       "      <td>35832.000000</td>\n",
       "      <td>0.000000</td>\n",
       "      <td>0.000000</td>\n",
       "    </tr>\n",
       "    <tr>\n",
       "      <th>25%</th>\n",
       "      <td>499.750000</td>\n",
       "      <td>0.000000</td>\n",
       "      <td>0.000000</td>\n",
       "      <td>27.000000</td>\n",
       "      <td>1.00000</td>\n",
       "      <td>97663.250000</td>\n",
       "      <td>0.000000</td>\n",
       "      <td>0.000000</td>\n",
       "    </tr>\n",
       "    <tr>\n",
       "      <th>50%</th>\n",
       "      <td>999.500000</td>\n",
       "      <td>0.000000</td>\n",
       "      <td>0.000000</td>\n",
       "      <td>33.000000</td>\n",
       "      <td>1.00000</td>\n",
       "      <td>115548.500000</td>\n",
       "      <td>1.000000</td>\n",
       "      <td>1.000000</td>\n",
       "    </tr>\n",
       "    <tr>\n",
       "      <th>75%</th>\n",
       "      <td>1499.250000</td>\n",
       "      <td>1.000000</td>\n",
       "      <td>1.000000</td>\n",
       "      <td>42.000000</td>\n",
       "      <td>1.00000</td>\n",
       "      <td>138072.250000</td>\n",
       "      <td>1.000000</td>\n",
       "      <td>1.000000</td>\n",
       "    </tr>\n",
       "    <tr>\n",
       "      <th>max</th>\n",
       "      <td>1999.000000</td>\n",
       "      <td>1.000000</td>\n",
       "      <td>1.000000</td>\n",
       "      <td>76.000000</td>\n",
       "      <td>3.00000</td>\n",
       "      <td>309364.000000</td>\n",
       "      <td>2.000000</td>\n",
       "      <td>2.000000</td>\n",
       "    </tr>\n",
       "  </tbody>\n",
       "</table>\n",
       "</div>"
      ],
      "text/plain": [
       "             Index       Gender  Marital status          Age   Education  \\\n",
       "count  2000.000000  2000.000000     2000.000000  2000.000000  2000.00000   \n",
       "mean    999.500000     0.457000        0.496500    35.909000     1.03800   \n",
       "std     577.494589     0.498272        0.500113    11.719402     0.59978   \n",
       "min       0.000000     0.000000        0.000000    18.000000     0.00000   \n",
       "25%     499.750000     0.000000        0.000000    27.000000     1.00000   \n",
       "50%     999.500000     0.000000        0.000000    33.000000     1.00000   \n",
       "75%    1499.250000     1.000000        1.000000    42.000000     1.00000   \n",
       "max    1999.000000     1.000000        1.000000    76.000000     3.00000   \n",
       "\n",
       "              Income   Occupation  Settlement size  \n",
       "count    2000.000000  2000.000000      2000.000000  \n",
       "mean   120954.419000     0.810500         0.739000  \n",
       "std     38108.824679     0.638587         0.812533  \n",
       "min     35832.000000     0.000000         0.000000  \n",
       "25%     97663.250000     0.000000         0.000000  \n",
       "50%    115548.500000     1.000000         1.000000  \n",
       "75%    138072.250000     1.000000         1.000000  \n",
       "max    309364.000000     2.000000         2.000000  "
      ]
     },
     "execution_count": 4,
     "metadata": {},
     "output_type": "execute_result"
    }
   ],
   "source": [
    "data.describe()"
   ]
  },
  {
   "cell_type": "code",
   "execution_count": 5,
   "id": "e962c324",
   "metadata": {},
   "outputs": [
    {
     "data": {
      "text/plain": [
       "Index              2000\n",
       "Gender                2\n",
       "Marital status        2\n",
       "Age                  58\n",
       "Education             4\n",
       "Income             1982\n",
       "Occupation            3\n",
       "Settlement size       3\n",
       "dtype: int64"
      ]
     },
     "execution_count": 5,
     "metadata": {},
     "output_type": "execute_result"
    }
   ],
   "source": [
    "data.nunique()"
   ]
  },
  {
   "cell_type": "code",
   "execution_count": 6,
   "id": "95c40401",
   "metadata": {
    "scrolled": true
   },
   "outputs": [],
   "source": [
    "data =pd.get_dummies(data,drop_first=True,columns=['Gender','Marital status','Education','Occupation','Settlement size'])"
   ]
  },
  {
   "cell_type": "code",
   "execution_count": 7,
   "id": "3dfe1f8e",
   "metadata": {},
   "outputs": [],
   "source": [
    "data.drop(['Index'],axis=1,inplace=True)"
   ]
  },
  {
   "cell_type": "code",
   "execution_count": 8,
   "id": "27d0529b",
   "metadata": {},
   "outputs": [],
   "source": [
    "from sklearn.preprocessing import MinMaxScaler"
   ]
  },
  {
   "cell_type": "code",
   "execution_count": 9,
   "id": "04b100ec",
   "metadata": {},
   "outputs": [],
   "source": [
    "scaler = MinMaxScaler()\n",
    "scaled_data = scaler.fit_transform(data)\n",
    "scaled_data = pd.DataFrame(scaled_data,columns = data.columns)"
   ]
  },
  {
   "cell_type": "code",
   "execution_count": 10,
   "id": "2d1dd60f",
   "metadata": {},
   "outputs": [
    {
     "data": {
      "text/html": [
       "<div>\n",
       "<style scoped>\n",
       "    .dataframe tbody tr th:only-of-type {\n",
       "        vertical-align: middle;\n",
       "    }\n",
       "\n",
       "    .dataframe tbody tr th {\n",
       "        vertical-align: top;\n",
       "    }\n",
       "\n",
       "    .dataframe thead th {\n",
       "        text-align: right;\n",
       "    }\n",
       "</style>\n",
       "<table border=\"1\" class=\"dataframe\">\n",
       "  <thead>\n",
       "    <tr style=\"text-align: right;\">\n",
       "      <th></th>\n",
       "      <th>Age</th>\n",
       "      <th>Income</th>\n",
       "      <th>Gender_1</th>\n",
       "      <th>Marital status_1</th>\n",
       "      <th>Education_1</th>\n",
       "      <th>Education_2</th>\n",
       "      <th>Education_3</th>\n",
       "      <th>Occupation_1</th>\n",
       "      <th>Occupation_2</th>\n",
       "      <th>Settlement size_1</th>\n",
       "      <th>Settlement size_2</th>\n",
       "    </tr>\n",
       "  </thead>\n",
       "  <tbody>\n",
       "    <tr>\n",
       "      <th>0</th>\n",
       "      <td>0.844828</td>\n",
       "      <td>0.324781</td>\n",
       "      <td>0.0</td>\n",
       "      <td>0.0</td>\n",
       "      <td>0.0</td>\n",
       "      <td>1.0</td>\n",
       "      <td>0.0</td>\n",
       "      <td>1.0</td>\n",
       "      <td>0.0</td>\n",
       "      <td>0.0</td>\n",
       "      <td>1.0</td>\n",
       "    </tr>\n",
       "    <tr>\n",
       "      <th>1</th>\n",
       "      <td>0.068966</td>\n",
       "      <td>0.420210</td>\n",
       "      <td>1.0</td>\n",
       "      <td>1.0</td>\n",
       "      <td>1.0</td>\n",
       "      <td>0.0</td>\n",
       "      <td>0.0</td>\n",
       "      <td>1.0</td>\n",
       "      <td>0.0</td>\n",
       "      <td>0.0</td>\n",
       "      <td>1.0</td>\n",
       "    </tr>\n",
       "    <tr>\n",
       "      <th>2</th>\n",
       "      <td>0.534483</td>\n",
       "      <td>0.195144</td>\n",
       "      <td>0.0</td>\n",
       "      <td>0.0</td>\n",
       "      <td>1.0</td>\n",
       "      <td>0.0</td>\n",
       "      <td>0.0</td>\n",
       "      <td>0.0</td>\n",
       "      <td>0.0</td>\n",
       "      <td>0.0</td>\n",
       "      <td>0.0</td>\n",
       "    </tr>\n",
       "    <tr>\n",
       "      <th>3</th>\n",
       "      <td>0.465517</td>\n",
       "      <td>0.496223</td>\n",
       "      <td>0.0</td>\n",
       "      <td>0.0</td>\n",
       "      <td>1.0</td>\n",
       "      <td>0.0</td>\n",
       "      <td>0.0</td>\n",
       "      <td>1.0</td>\n",
       "      <td>0.0</td>\n",
       "      <td>1.0</td>\n",
       "      <td>0.0</td>\n",
       "    </tr>\n",
       "    <tr>\n",
       "      <th>4</th>\n",
       "      <td>0.603448</td>\n",
       "      <td>0.413842</td>\n",
       "      <td>0.0</td>\n",
       "      <td>0.0</td>\n",
       "      <td>1.0</td>\n",
       "      <td>0.0</td>\n",
       "      <td>0.0</td>\n",
       "      <td>1.0</td>\n",
       "      <td>0.0</td>\n",
       "      <td>1.0</td>\n",
       "      <td>0.0</td>\n",
       "    </tr>\n",
       "    <tr>\n",
       "      <th>...</th>\n",
       "      <td>...</td>\n",
       "      <td>...</td>\n",
       "      <td>...</td>\n",
       "      <td>...</td>\n",
       "      <td>...</td>\n",
       "      <td>...</td>\n",
       "      <td>...</td>\n",
       "      <td>...</td>\n",
       "      <td>...</td>\n",
       "      <td>...</td>\n",
       "      <td>...</td>\n",
       "    </tr>\n",
       "    <tr>\n",
       "      <th>1995</th>\n",
       "      <td>0.500000</td>\n",
       "      <td>0.320595</td>\n",
       "      <td>1.0</td>\n",
       "      <td>0.0</td>\n",
       "      <td>1.0</td>\n",
       "      <td>0.0</td>\n",
       "      <td>0.0</td>\n",
       "      <td>0.0</td>\n",
       "      <td>0.0</td>\n",
       "      <td>0.0</td>\n",
       "      <td>0.0</td>\n",
       "    </tr>\n",
       "    <tr>\n",
       "      <th>1996</th>\n",
       "      <td>0.155172</td>\n",
       "      <td>0.299460</td>\n",
       "      <td>1.0</td>\n",
       "      <td>1.0</td>\n",
       "      <td>1.0</td>\n",
       "      <td>0.0</td>\n",
       "      <td>0.0</td>\n",
       "      <td>1.0</td>\n",
       "      <td>0.0</td>\n",
       "      <td>0.0</td>\n",
       "      <td>0.0</td>\n",
       "    </tr>\n",
       "    <tr>\n",
       "      <th>1997</th>\n",
       "      <td>0.224138</td>\n",
       "      <td>0.184871</td>\n",
       "      <td>0.0</td>\n",
       "      <td>0.0</td>\n",
       "      <td>0.0</td>\n",
       "      <td>0.0</td>\n",
       "      <td>0.0</td>\n",
       "      <td>0.0</td>\n",
       "      <td>0.0</td>\n",
       "      <td>0.0</td>\n",
       "      <td>0.0</td>\n",
       "    </tr>\n",
       "    <tr>\n",
       "      <th>1998</th>\n",
       "      <td>0.103448</td>\n",
       "      <td>0.227162</td>\n",
       "      <td>1.0</td>\n",
       "      <td>1.0</td>\n",
       "      <td>1.0</td>\n",
       "      <td>0.0</td>\n",
       "      <td>0.0</td>\n",
       "      <td>0.0</td>\n",
       "      <td>0.0</td>\n",
       "      <td>0.0</td>\n",
       "      <td>0.0</td>\n",
       "    </tr>\n",
       "    <tr>\n",
       "      <th>1999</th>\n",
       "      <td>0.120690</td>\n",
       "      <td>0.119123</td>\n",
       "      <td>0.0</td>\n",
       "      <td>0.0</td>\n",
       "      <td>0.0</td>\n",
       "      <td>0.0</td>\n",
       "      <td>0.0</td>\n",
       "      <td>0.0</td>\n",
       "      <td>0.0</td>\n",
       "      <td>0.0</td>\n",
       "      <td>0.0</td>\n",
       "    </tr>\n",
       "  </tbody>\n",
       "</table>\n",
       "<p>2000 rows × 11 columns</p>\n",
       "</div>"
      ],
      "text/plain": [
       "           Age    Income  Gender_1  Marital status_1  Education_1  \\\n",
       "0     0.844828  0.324781       0.0               0.0          0.0   \n",
       "1     0.068966  0.420210       1.0               1.0          1.0   \n",
       "2     0.534483  0.195144       0.0               0.0          1.0   \n",
       "3     0.465517  0.496223       0.0               0.0          1.0   \n",
       "4     0.603448  0.413842       0.0               0.0          1.0   \n",
       "...        ...       ...       ...               ...          ...   \n",
       "1995  0.500000  0.320595       1.0               0.0          1.0   \n",
       "1996  0.155172  0.299460       1.0               1.0          1.0   \n",
       "1997  0.224138  0.184871       0.0               0.0          0.0   \n",
       "1998  0.103448  0.227162       1.0               1.0          1.0   \n",
       "1999  0.120690  0.119123       0.0               0.0          0.0   \n",
       "\n",
       "      Education_2  Education_3  Occupation_1  Occupation_2  Settlement size_1  \\\n",
       "0             1.0          0.0           1.0           0.0                0.0   \n",
       "1             0.0          0.0           1.0           0.0                0.0   \n",
       "2             0.0          0.0           0.0           0.0                0.0   \n",
       "3             0.0          0.0           1.0           0.0                1.0   \n",
       "4             0.0          0.0           1.0           0.0                1.0   \n",
       "...           ...          ...           ...           ...                ...   \n",
       "1995          0.0          0.0           0.0           0.0                0.0   \n",
       "1996          0.0          0.0           1.0           0.0                0.0   \n",
       "1997          0.0          0.0           0.0           0.0                0.0   \n",
       "1998          0.0          0.0           0.0           0.0                0.0   \n",
       "1999          0.0          0.0           0.0           0.0                0.0   \n",
       "\n",
       "      Settlement size_2  \n",
       "0                   1.0  \n",
       "1                   1.0  \n",
       "2                   0.0  \n",
       "3                   0.0  \n",
       "4                   0.0  \n",
       "...                 ...  \n",
       "1995                0.0  \n",
       "1996                0.0  \n",
       "1997                0.0  \n",
       "1998                0.0  \n",
       "1999                0.0  \n",
       "\n",
       "[2000 rows x 11 columns]"
      ]
     },
     "execution_count": 10,
     "metadata": {},
     "output_type": "execute_result"
    }
   ],
   "source": [
    "scaled_data"
   ]
  },
  {
   "cell_type": "code",
   "execution_count": 11,
   "id": "d3066d86",
   "metadata": {},
   "outputs": [],
   "source": [
    "scaled_data = scaled_data.reindex()"
   ]
  },
  {
   "cell_type": "code",
   "execution_count": 12,
   "id": "b9cc9f63",
   "metadata": {},
   "outputs": [],
   "source": [
    "scaled_data = np.array(scaled_data)"
   ]
  },
  {
   "cell_type": "markdown",
   "id": "b5070a4a",
   "metadata": {},
   "source": [
    "## GMM"
   ]
  },
  {
   "cell_type": "code",
   "execution_count": 13,
   "id": "98d8969f",
   "metadata": {},
   "outputs": [],
   "source": [
    "from scipy.stats import multivariate_normal\n",
    "class GMM:\n",
    "    def __init__(self,no_of_clusters,threshold=1e-6,max_iterations =1000):\n",
    "        self.no_of_clusters = no_of_clusters\n",
    "        self.nrows = None\n",
    "        self.ncols = None\n",
    "        self.phi = None\n",
    "        self.mean = None\n",
    "        self.cov = None\n",
    "        self.weights = None\n",
    "        self.prev_likelihood = -np.inf\n",
    "        self.threshold = threshold\n",
    "        self.max_iterations = max_iterations\n",
    "        self.threshold = threshold\n",
    "    def fit(self,x):\n",
    "        self.nrows = x.shape[0]\n",
    "        self.ncols = x.shape[1]\n",
    "        self.initialize(x)\n",
    "        iteration =1\n",
    "        while(iteration<self.max_iterations):\n",
    "            self.likelihood = self.cal_likelihood(x)\n",
    "            self.E_step(x)\n",
    "            self.M_step(x)\n",
    "            iteration+=1\n",
    "\n",
    "    def cal_likelihood(self,x):\n",
    "        likelihood = []\n",
    "        for i in range(self.no_of_clusters):\n",
    "            dist = multivariate_normal(self.mean[i],self.cov[i])\n",
    "            likelihood.append(dist.pdf(x))\n",
    "        likelihood = np.array(likelihood).T\n",
    "        return likelihood\n",
    "    \n",
    "    def E_step(self,x):\n",
    "        weights = []\n",
    "        for i in range(self.nrows):\n",
    "            weight = []\n",
    "            for j in range(self.no_of_clusters):\n",
    "                weight.append((self.phi[j]*self.likelihood[i][j])/np.dot(self.phi,self.likelihood[i]))\n",
    "            weights.append(weight)\n",
    "        self.weights = np.array(weights)\n",
    "        self.phi = self.weights.mean(axis=0)\n",
    "                \n",
    "    def M_step(self,x):\n",
    "        epsilon = 1e-6\n",
    "        for i in range(self.no_of_clusters):\n",
    "            self.mean[i] = np.dot(x.T,self.weights[:,i])/np.sum(self.weights[:,i])\n",
    "            self.cov[i] = np.cov(x.T, aweights=(self.weights[:, i] / np.sum(self.weights[:, i])).flatten(), bias=True) + epsilon*np.eye(self.ncols)\n",
    "            self.phi[i] = np.sum(self.weights[:,i])/self.nrows\n",
    "    def initialize(self,X):\n",
    "        self.phi = np.ones(self.no_of_clusters)/self.no_of_clusters\n",
    "        random_row = np.random.randint(low=0, high=self.nrows, size=self.no_of_clusters)\n",
    "        self.mean = [X[row_index,:] for row_index in random_row]\n",
    "        self.cov = [np.diag(np.ones(self.ncols)) for _ in range(self.no_of_clusters)]\n",
    "\n",
    "    def predict(self,x):\n",
    "        self.likelihood = self.cal_likelihood(x)\n",
    "        self.E_step(x)\n",
    "        return np.argmax(self.weights, axis=1)"
   ]
  },
  {
   "cell_type": "code",
   "execution_count": 14,
   "id": "18d23f2e",
   "metadata": {},
   "outputs": [],
   "source": [
    "model = GMM(3)"
   ]
  },
  {
   "cell_type": "code",
   "execution_count": 15,
   "id": "f0baf9cd",
   "metadata": {},
   "outputs": [],
   "source": [
    "model.fit(scaled_data)"
   ]
  },
  {
   "cell_type": "code",
   "execution_count": 16,
   "id": "d26e4f73",
   "metadata": {
    "scrolled": true
   },
   "outputs": [
    {
     "data": {
      "text/plain": [
       "array([[5.51632172e-11, 1.00000000e+00, 1.39771871e-47],\n",
       "       [5.30765905e-13, 1.00000000e+00, 3.13631920e-40],\n",
       "       [1.00000000e+00, 0.00000000e+00, 2.26779082e-21],\n",
       "       ...,\n",
       "       [1.00000000e+00, 0.00000000e+00, 0.00000000e+00],\n",
       "       [2.94923211e-05, 0.00000000e+00, 9.99970508e-01],\n",
       "       [1.00000000e+00, 0.00000000e+00, 0.00000000e+00]])"
      ]
     },
     "execution_count": 16,
     "metadata": {},
     "output_type": "execute_result"
    }
   ],
   "source": [
    "model.weights"
   ]
  },
  {
   "cell_type": "code",
   "execution_count": 17,
   "id": "ef88375e",
   "metadata": {},
   "outputs": [
    {
     "data": {
      "text/plain": [
       "array([0.35400987, 0.4645    , 0.18149014])"
      ]
     },
     "execution_count": 17,
     "metadata": {},
     "output_type": "execute_result"
    }
   ],
   "source": [
    "model.phi"
   ]
  },
  {
   "cell_type": "code",
   "execution_count": 18,
   "id": "69c9b807",
   "metadata": {},
   "outputs": [],
   "source": [
    "model = GMM(5)"
   ]
  },
  {
   "cell_type": "code",
   "execution_count": 19,
   "id": "6b8e7d58",
   "metadata": {},
   "outputs": [],
   "source": [
    "model.fit(scaled_data)"
   ]
  },
  {
   "cell_type": "code",
   "execution_count": 20,
   "id": "22def2ec",
   "metadata": {
    "scrolled": true
   },
   "outputs": [
    {
     "data": {
      "text/plain": [
       "array([[9.99999991e-01, 0.00000000e+00, 0.00000000e+00, 2.82685117e-16,\n",
       "        8.82021970e-09],\n",
       "       [0.00000000e+00, 2.46833238e-53, 9.99999992e-01, 0.00000000e+00,\n",
       "        8.31247745e-09],\n",
       "       [0.00000000e+00, 4.81752259e-67, 1.00000000e+00, 0.00000000e+00,\n",
       "        0.00000000e+00],\n",
       "       ...,\n",
       "       [0.00000000e+00, 1.00000000e+00, 0.00000000e+00, 0.00000000e+00,\n",
       "        0.00000000e+00],\n",
       "       [0.00000000e+00, 1.09220454e-53, 1.00000000e+00, 0.00000000e+00,\n",
       "        0.00000000e+00],\n",
       "       [0.00000000e+00, 1.00000000e+00, 0.00000000e+00, 0.00000000e+00,\n",
       "        0.00000000e+00]])"
      ]
     },
     "execution_count": 20,
     "metadata": {},
     "output_type": "execute_result"
    }
   ],
   "source": [
    "model.weights"
   ]
  },
  {
   "cell_type": "code",
   "execution_count": 21,
   "id": "bb9838e6",
   "metadata": {},
   "outputs": [
    {
     "data": {
      "text/plain": [
       "array([0.11449828, 0.10437674, 0.61599903, 0.01950001, 0.14562594])"
      ]
     },
     "execution_count": 21,
     "metadata": {},
     "output_type": "execute_result"
    }
   ],
   "source": [
    "model.phi"
   ]
  },
  {
   "cell_type": "code",
   "execution_count": 22,
   "id": "95c9cab8",
   "metadata": {},
   "outputs": [],
   "source": [
    "model = GMM(10)"
   ]
  },
  {
   "cell_type": "code",
   "execution_count": 23,
   "id": "36b1a213",
   "metadata": {},
   "outputs": [],
   "source": [
    "model.fit(scaled_data)"
   ]
  },
  {
   "cell_type": "code",
   "execution_count": 24,
   "id": "6f312322",
   "metadata": {
    "scrolled": true
   },
   "outputs": [
    {
     "data": {
      "text/plain": [
       "array([[1.00000000e+00, 5.23051744e-13, 0.00000000e+00, ...,\n",
       "        0.00000000e+00, 0.00000000e+00, 0.00000000e+00],\n",
       "       [0.00000000e+00, 0.00000000e+00, 0.00000000e+00, ...,\n",
       "        1.00000000e+00, 0.00000000e+00, 0.00000000e+00],\n",
       "       [0.00000000e+00, 0.00000000e+00, 1.00000000e+00, ...,\n",
       "        0.00000000e+00, 0.00000000e+00, 0.00000000e+00],\n",
       "       ...,\n",
       "       [0.00000000e+00, 1.00000000e+00, 0.00000000e+00, ...,\n",
       "        0.00000000e+00, 0.00000000e+00, 0.00000000e+00],\n",
       "       [0.00000000e+00, 0.00000000e+00, 1.00000000e+00, ...,\n",
       "        0.00000000e+00, 0.00000000e+00, 0.00000000e+00],\n",
       "       [0.00000000e+00, 1.00000000e+00, 0.00000000e+00, ...,\n",
       "        0.00000000e+00, 0.00000000e+00, 0.00000000e+00]])"
      ]
     },
     "execution_count": 24,
     "metadata": {},
     "output_type": "execute_result"
    }
   ],
   "source": [
    "model.weights"
   ]
  },
  {
   "cell_type": "code",
   "execution_count": 25,
   "id": "77c8bdf4",
   "metadata": {},
   "outputs": [
    {
     "data": {
      "text/plain": [
       "array([0.0775    , 0.06849866, 0.43950134, 0.024     , 0.0065    ,\n",
       "       0.111     , 0.0415228 , 0.2239772 , 0.0005    , 0.007     ])"
      ]
     },
     "execution_count": 25,
     "metadata": {},
     "output_type": "execute_result"
    }
   ],
   "source": [
    "model.phi"
   ]
  },
  {
   "cell_type": "markdown",
   "id": "a64f3447",
   "metadata": {},
   "source": [
    "* Perform clustering on the wine-dataset using Gaussian Mixture Model (GMM) and K-Means algorithms. Find the optimal number of clusters for GMM using BIC (Bayesian Information Criterion) and AIC (Akaike Information Criterion). Reduce the dataset dimension to 2 using Principal Component Analysis (PCA), plot scatter plots for each of the clustering mentioned above, analyze your observations and report them. Also, compute the silhouette scores for each clustering and compare the results. You are free to use sklearn for the dataset, PCA, and Silhouette Score computation."
   ]
  },
  {
   "cell_type": "code",
   "execution_count": 26,
   "id": "896566cb",
   "metadata": {},
   "outputs": [],
   "source": [
    "from sklearn.datasets import load_wine"
   ]
  },
  {
   "cell_type": "code",
   "execution_count": 27,
   "id": "3a3fac5d",
   "metadata": {},
   "outputs": [],
   "source": [
    "data = load_wine()\n",
    "X = pd.DataFrame(data.data)\n",
    "y = pd.DataFrame(data.target)"
   ]
  },
  {
   "cell_type": "code",
   "execution_count": 28,
   "id": "730842e8",
   "metadata": {},
   "outputs": [
    {
     "data": {
      "text/plain": [
       "(178, 13)"
      ]
     },
     "execution_count": 28,
     "metadata": {},
     "output_type": "execute_result"
    }
   ],
   "source": [
    "X.shape"
   ]
  },
  {
   "cell_type": "code",
   "execution_count": 29,
   "id": "bb22c0c6",
   "metadata": {},
   "outputs": [],
   "source": [
    "from sklearn.preprocessing import MinMaxScaler"
   ]
  },
  {
   "cell_type": "code",
   "execution_count": 30,
   "id": "b7b3928f",
   "metadata": {},
   "outputs": [],
   "source": [
    "scaler = MinMaxScaler()\n",
    "scaled_x = scaler.fit_transform(X)"
   ]
  },
  {
   "cell_type": "code",
   "execution_count": 31,
   "id": "1eda0f36",
   "metadata": {},
   "outputs": [],
   "source": [
    "model = GMM(3)"
   ]
  },
  {
   "cell_type": "code",
   "execution_count": 32,
   "id": "52fc6004",
   "metadata": {},
   "outputs": [],
   "source": [
    "model.fit(scaled_x)"
   ]
  },
  {
   "cell_type": "code",
   "execution_count": 33,
   "id": "7869572d",
   "metadata": {},
   "outputs": [
    {
     "data": {
      "text/plain": [
       "2    81\n",
       "0    49\n",
       "1    48\n",
       "dtype: int64"
      ]
     },
     "execution_count": 33,
     "metadata": {},
     "output_type": "execute_result"
    }
   ],
   "source": [
    "pd.DataFrame(np.argmax(model.weights,axis=1)).value_counts() # Predicted Clusters"
   ]
  },
  {
   "cell_type": "code",
   "execution_count": 34,
   "id": "24e7baa6",
   "metadata": {},
   "outputs": [
    {
     "data": {
      "text/plain": [
       "1    71\n",
       "0    59\n",
       "2    48\n",
       "dtype: int64"
      ]
     },
     "execution_count": 34,
     "metadata": {},
     "output_type": "execute_result"
    }
   ],
   "source": [
    "y.value_counts() # True Labels comparision"
   ]
  },
  {
   "cell_type": "code",
   "execution_count": 35,
   "id": "09fa2b30",
   "metadata": {},
   "outputs": [],
   "source": [
    "from sklearn.cluster import KMeans"
   ]
  },
  {
   "cell_type": "code",
   "execution_count": 36,
   "id": "43b76e2d",
   "metadata": {},
   "outputs": [],
   "source": [
    "kmeans_model = KMeans(3)"
   ]
  },
  {
   "cell_type": "code",
   "execution_count": 38,
   "id": "cda1350a",
   "metadata": {},
   "outputs": [
    {
     "data": {
      "text/plain": [
       "(array([0, 1, 2], dtype=int32), array([52, 61, 65]))"
      ]
     },
     "execution_count": 38,
     "metadata": {},
     "output_type": "execute_result"
    }
   ],
   "source": [
    "np.unique(kmeans_model.predict(scaled_x),return_counts=True)"
   ]
  },
  {
   "cell_type": "markdown",
   "id": "375fc53d",
   "metadata": {},
   "source": [
    "###  BIC (Bayesian Information Criterion) "
   ]
  },
  {
   "cell_type": "code",
   "execution_count": 39,
   "id": "bb907575",
   "metadata": {},
   "outputs": [],
   "source": [
    "model1 = GMM(3)"
   ]
  },
  {
   "cell_type": "code",
   "execution_count": 40,
   "id": "480d574e",
   "metadata": {},
   "outputs": [],
   "source": [
    "model1.fit(scaled_data)"
   ]
  },
  {
   "cell_type": "code",
   "execution_count": 41,
   "id": "1c4792cf",
   "metadata": {},
   "outputs": [
    {
     "data": {
      "text/plain": [
       "array([0.616 , 0.2205, 0.1635])"
      ]
     },
     "execution_count": 41,
     "metadata": {},
     "output_type": "execute_result"
    }
   ],
   "source": [
    "model1.phi"
   ]
  },
  {
   "cell_type": "code",
   "execution_count": 42,
   "id": "bb0e5af8",
   "metadata": {},
   "outputs": [
    {
     "data": {
      "text/plain": [
       "[array([0.25828482, 0.27327566, 0.54464286, 0.57873377, 1.        ,\n",
       "        0.        , 0.        , 0.6461039 , 0.        , 0.25162338,\n",
       "        0.17045455]),\n",
       " array([0.21530221, 0.35043176, 0.13378685, 0.11791383, 0.34920635,\n",
       "        0.        , 0.        , 0.38095238, 0.41043084, 0.29705215,\n",
       "        0.37188209]),\n",
       " array([0.62506591, 0.40115771, 0.56269113, 0.69724771, 0.        ,\n",
       "        0.88990826, 0.11009174, 0.45565749, 0.22324159, 0.31498471,\n",
       "        0.28440367])]"
      ]
     },
     "execution_count": 42,
     "metadata": {},
     "output_type": "execute_result"
    }
   ],
   "source": [
    "model1.mean"
   ]
  },
  {
   "cell_type": "code",
   "execution_count": 43,
   "id": "5d35e3b8",
   "metadata": {},
   "outputs": [
    {
     "name": "stdout",
     "output_type": "stream",
     "text": [
      "BIC for K=1: 5311.924397467672\n",
      "BIC for K=2: -35312.880232699375\n",
      "BIC for K=3: -59815.41709645725\n",
      "BIC for K=4: -85360.77043204992\n",
      "BIC for K=5: -82782.11523057584\n",
      "BIC for K=6: -96243.13795269432\n",
      "BIC for K=7: -87613.7379380902\n",
      "BIC for K=8: -117828.56273299712\n",
      "BIC for K=9: -120930.87850321617\n"
     ]
    }
   ],
   "source": [
    "import numpy as np\n",
    "from scipy.stats import multivariate_normal\n",
    "\n",
    "D = 13\n",
    "N = 178\n",
    "\n",
    "bic_values = []  # To store BIC values for different K values\n",
    "\n",
    "for K in range(1, 10):\n",
    "    model = GMM(K)\n",
    "    model.fit(scaled_data)\n",
    "    likelihoods = np.sum(model.likelihood, axis=1)  # Use model.likelihoods\n",
    "    p = K - 1 + K * D * (D + 1) / 2\n",
    "    bic = -(2 * np.sum(np.log(likelihoods))) + p * np.log(N)\n",
    "    bic_values.append(bic)\n",
    "    print(f\"BIC for K={K}: {bic}\")"
   ]
  },
  {
   "cell_type": "code",
   "execution_count": 44,
   "id": "16832544",
   "metadata": {},
   "outputs": [
    {
     "name": "stdout",
     "output_type": "stream",
     "text": [
      "AIC for K=1: -7488.039441031327\n",
      "AIC for K=2: -171831722170.13425\n",
      "AIC for K=3: -112378853177.34567\n",
      "AIC for K=4: -43508390888105.914\n",
      "AIC for K=5: -1.0266792718971946e+16\n",
      "AIC for K=6: -2.1224381657821496e+16\n",
      "AIC for K=7: -1.4251706089994458e+18\n",
      "AIC for K=8: -1.5926666810463336e+24\n",
      "AIC for K=9: -1.4192006656406996e+18\n"
     ]
    }
   ],
   "source": [
    "import numpy as np\n",
    "from scipy.stats import multivariate_normal\n",
    "\n",
    "D = 13\n",
    "N = 178\n",
    "\n",
    "aic_values = []  # To store AIC values for different K values\n",
    "\n",
    "for K in range(1, 10):\n",
    "    model = GMM(K)\n",
    "    model.fit(scaled_data)\n",
    "    log_likelihoods = np.sum(model.likelihood, axis=1)  # Use model.likelihoods\n",
    "    p = K - 1 + K * D * (D + 1) / 2\n",
    "    aic = -2 * np.sum(log_likelihoods) + 2 * p\n",
    "    aic_values.append(aic)\n",
    "    print(f\"AIC for K={K}: {aic}\")"
   ]
  },
  {
   "cell_type": "code",
   "execution_count": 45,
   "id": "6ae83d46",
   "metadata": {},
   "outputs": [],
   "source": [
    "from sklearn.datasets import load_wine\n",
    "\n",
    "data = load_wine()\n",
    "X = pd.DataFrame(data.data)\n",
    "y = pd.DataFrame(data.target)\n",
    "\n",
    "X.shape\n",
    "\n",
    "from sklearn.preprocessing import MinMaxScaler\n",
    "\n",
    "scaler = MinMaxScaler()\n",
    "scaled_x = scaler.fit_transform(X)"
   ]
  },
  {
   "cell_type": "code",
   "execution_count": 46,
   "id": "a2f77442",
   "metadata": {},
   "outputs": [],
   "source": [
    "from sklearn.decomposition import PCA\n",
    "model = PCA(2)\n",
    "trans_data = model.fit_transform(scaled_x)"
   ]
  },
  {
   "cell_type": "code",
   "execution_count": 47,
   "id": "aeed85ba",
   "metadata": {},
   "outputs": [],
   "source": [
    "model = GMM(3)\n",
    "model.fit(trans_data)\n",
    "pred_labels = model.predict(trans_data)"
   ]
  },
  {
   "cell_type": "code",
   "execution_count": 48,
   "id": "8bd6a94d",
   "metadata": {},
   "outputs": [
    {
     "data": {
      "image/png": "[encoded data removed]",
      "text/plain": [
       "<Figure size 432x288 with 1 Axes>"
      ]
     },
     "metadata": {
      "needs_background": "light"
     },
     "output_type": "display_data"
    }
   ],
   "source": [
    "import matplotlib.pyplot as plt\n",
    "plt.scatter(trans_data[:,0],trans_data[:,1],c=pred_labels)\n",
    "plt.show()"
   ]
  },
  {
   "cell_type": "code",
   "execution_count": 49,
   "id": "1930b577",
   "metadata": {},
   "outputs": [
    {
     "data": {
      "text/plain": [
       "0.5662252913596103"
      ]
     },
     "execution_count": 49,
     "metadata": {},
     "output_type": "execute_result"
    }
   ],
   "source": [
    "from sklearn.metrics import silhouette_score\n",
    "silhouette_score(trans_data,pred_labels)"
   ]
  },
  {
   "cell_type": "code",
   "execution_count": 50,
   "id": "4304ca95",
   "metadata": {},
   "outputs": [],
   "source": [
    "from sklearn.cluster import KMeans\n",
    "model = KMeans(3)\n",
    "model.fit(trans_data)\n",
    "pred_labels = model.predict(trans_data)"
   ]
  },
  {
   "cell_type": "code",
   "execution_count": 51,
   "id": "4ccdaf02",
   "metadata": {},
   "outputs": [
    {
     "data": {
      "image/png": "[encoded data removed]",
      "text/plain": [
       "<Figure size 432x288 with 1 Axes>"
      ]
     },
     "metadata": {
      "needs_background": "light"
     },
     "output_type": "display_data"
    }
   ],
   "source": [
    "import matplotlib.pyplot as plt\n",
    "plt.scatter(trans_data[:,0],trans_data[:,1],c=pred_labels)\n",
    "plt.show()"
   ]
  },
  {
   "cell_type": "code",
   "execution_count": 52,
   "id": "3275f37e",
   "metadata": {},
   "outputs": [
    {
     "data": {
      "text/plain": [
       "0.5680591392935428"
      ]
     },
     "execution_count": 52,
     "metadata": {},
     "output_type": "execute_result"
    }
   ],
   "source": [
    "silhouette_score(trans_data,pred_labels)"
   ]
  },
  {
   "cell_type": "markdown",
   "id": "a5caa308",
   "metadata": {},
   "source": [
    "* Observations :\n",
    "Both of them gave similar clusters as represented by both these axeses.\n",
    "And their silhouette scores too are very similar. This implies that both these algorithms found similar patterns in the data after decomposing the into two components.\n",
    "\n",
    "* Linear Separability: \n",
    "This also implies that the data is highly linearly separable in the reduced 2D space, both K-means and GMM, which are based on distance or density measures, may produce similar cluster assignments.\n",
    "\n",
    "* Cluster Size and Shape: \n",
    "If the clusters in the data are spherical in the reduced 2D space, K-means and GMM are more likely to yield similar results. The plots above suggest the same"
   ]
  }
 ],
 "metadata": {
  "kernelspec": {
   "display_name": "Python 3",
   "language": "python",
   "name": "python3"
  },
  "language_info": {
   "codemirror_mode": {
    "name": "ipython",
    "version": 3
   },
   "file_extension": ".py",
   "mimetype": "text/x-python",
   "name": "python",
   "nbconvert_exporter": "python",
   "pygments_lexer": "ipython3",
   "version": "3.8.8"
  }
 },
 "nbformat": 4,
 "nbformat_minor": 5
}
